{
 "cells": [
  {
   "cell_type": "markdown",
   "metadata": {},
   "source": [
    "# Federal Reserve Minutes Sentiment Analysis \n",
    "\n",
    "The objective of this notebook is to extract topics and sentiment from Federal Minutes (2004-Present), leveraging natural language techniques such as bag of words and Latent Dirichlet Allocation (LDA). Sentiment is calculated using FinBert\n",
    "\n",
    "Please use NBviewer for rendering if plotly graphs do not appear (via http://nbviewer.jupyter.org/github/JonnyFLDN/Federal-Reserve-Minutes-Topic-and-Sentiment-Modelling/blob/master/Topic%20%26%20Sentiment%20Analysis.ipynb)"
   ]
  },
  {
   "cell_type": "markdown",
   "metadata": {},
   "source": [
    "# <a name=\"meth-out\"></a>Method Outline:"
   ]
  },
  {
   "cell_type": "markdown",
   "metadata": {},
   "source": [
    "## <a name=\"p-flow\"></a>Process Flow"
   ]
  },
  {
   "cell_type": "markdown",
   "metadata": {},
   "source": [
    "# <a name=\"data-o\"></a> Data Overview\n",
    "Data was web scrapped using [Webscraper.py](https://github.com/JonnyFLDN/Federal-Reserve-Minutes-Topic-and-Sentiment-Modelling/blob/master/Minutes_Webscraper.py) from https://www.federalreserve.gov/monetarypolicy/fomccalendars.htm and saved in the directory below. \n",
    "The year 2004 was chosen as the start-year given the acceleration of release dates to 3 weeks, and improved clarity in explanations of committee’s decisions and views [(Danker,2005)](https://www.federalreserve.gov/pubs/bulletin/2005/spring05_fomc.pdf)\n",
    "\n",
    "<br> \n",
    "In this section we will examine the transcripts' structure."
   ]
  },
  {
   "cell_type": "markdown",
   "metadata": {},
   "source": [
    "## <a name=\"sum\"></a>Summary"
   ]
  },
  {
   "cell_type": "code",
   "execution_count": 1,
   "metadata": {},
   "outputs": [],
   "source": [
    "import os\n",
    "import pandas as pd\n",
    "import numpy as np \n",
    "import re\n",
    "import string\n",
    "\n",
    "from utils.corpusutils import CorpusPreProcess, Document, Corpus\n",
    "from utils.featureutils import FeatureProcessor,find_closest\n",
    "\n",
    "\n",
    "from nltk.tokenize import WordPunctTokenizer\n",
    "from nltk.data import LazyLoader\n",
    "from nltk.stem.porter import PorterStemmer\n",
    "from nltk.stem import WordNetLemmatizer\n",
    "from nltk.tokenize.treebank import TreebankWordDetokenizer\n",
    "from nltk.corpus import stopwords\n",
    "from sklearn.decomposition import LatentDirichletAllocation\n",
    "from sklearn.feature_extraction.text import CountVectorizer\n",
    "\n",
    "from transformers import AutoTokenizer, AutoModelForSequenceClassification\n",
    "\n",
    "import seaborn as sns\n",
    "import matplotlib.pyplot as plt\n",
    "from sklearn.metrics.pairwise import cosine_similarity\n",
    "from scipy.spatial.distance import jensenshannon\n",
    "import torch\n",
    "import joblib\n",
    "import pickle\n",
    "import pyLDAvis\n",
    "import pyLDAvis.sklearn as sklearnvis\n",
    "pyLDAvis.enable_notebook()\n",
    "import warnings\n",
    "warnings.filterwarnings('ignore')"
   ]
  },
  {
   "cell_type": "code",
   "execution_count": 2,
   "metadata": {},
   "outputs": [],
   "source": [
    "\n",
    "current_directory = os.getcwd()\n",
    "root = os.path.join(current_directory,\"Minutes\")\n",
    "word_tokenizer = WordPunctTokenizer()\n",
    "sent_tokenizer = LazyLoader(\"tokenizers/punkt/english.pickle\")\n",
    "category_pattern = r'(\\d{4})/*'\n",
    "file_extension = r'*.txt'\n",
    "file_pattern = r'(\\d{8})/*'\n",
    "stemmer = PorterStemmer()\n",
    "lemmatizer = WordNetLemmatizer()\n",
    "stop_words = stopwords.words('english') + list(string.punctuation) + ['u','.','s','--','-','.\"',',\"','.)',')-','\".','—','),'] \n",
    "\n",
    "\n",
    "fed_mins = CorpusPreProcess(root=root,file_extension = file_extension,\n",
    "                            category_pattern=category_pattern,\n",
    "                            file_pattern=file_pattern,\n",
    "                            word_tokenizer = word_tokenizer,\n",
    "                            sent_tokenizer=sent_tokenizer,\n",
    "                            stemmer = stemmer,\n",
    "                            lemmatizer = lemmatizer,\n",
    "                            stop_words = stop_words\n",
    "                            )"
   ]
  },
  {
   "cell_type": "code",
   "execution_count": 3,
   "metadata": {},
   "outputs": [
    {
     "name": "stdout",
     "output_type": "stream",
     "text": [
      "Total number of files: 143\n",
      "Number of paragraphs: 17241\n",
      "Number of sentences: 45009\n",
      "Number of words: 1238889\n",
      "\n",
      "First file: 20040128\n",
      "Last file: 20211215\n"
     ]
    }
   ],
   "source": [
    "fed_mins_ids = fed_mins.get_file_ids()\n",
    "\n",
    "print('Total number of files: '+str(len(fed_mins_ids)))\n",
    "print('Number of paragraphs: '+str(len(fed_mins.get_paras())))\n",
    "print('Number of sentences: '+str(len(fed_mins.get_sents())))\n",
    "print('Number of words: '+str(len(fed_mins.get_words())))\n",
    "print('\\n'+'First file: '+ fed_mins_ids[0])\n",
    "print('Last file: '+ fed_mins_ids[-1])"
   ]
  },
  {
   "cell_type": "code",
   "execution_count": 4,
   "metadata": {},
   "outputs": [],
   "source": [
    "#For each Category\n",
    "para_by_year = {}\n",
    "\n",
    "for cat in fed_mins.get_category_ids():\n",
    "    files = fed_mins.get_file_ids(category_id=cat)\n",
    "    para_by_year[cat] = {'nparas':sum(len(fed_mins.get_paras(file_id=f)) for f in files)/len(files),\n",
    "                        'nwords':sum(len(fed_mins.get_words(file_id=f)) for f in files)/len(files)}\n"
   ]
  },
  {
   "cell_type": "code",
   "execution_count": 5,
   "metadata": {},
   "outputs": [
    {
     "data": {
      "text/plain": [
       "<AxesSubplot:title={'center':'Paragraphs and words overtime'}>"
      ]
     },
     "execution_count": 5,
     "metadata": {},
     "output_type": "execute_result"
    },
    {
     "data": {
      "image/png": "[encoded data removed]",
      "text/plain": [
       "<Figure size 720x360 with 2 Axes>"
      ]
     },
     "metadata": {
      "needs_background": "light"
     },
     "output_type": "display_data"
    }
   ],
   "source": [
    "pd.DataFrame.from_dict(para_by_year).T.sort_index().plot(kind='bar',secondary_y='nparas',figsize=(10,5),title='Paragraphs and words overtime')\n"
   ]
  },
  {
   "cell_type": "markdown",
   "metadata": {},
   "source": [
    "We can see an acceleration in the amount of paragraphs and words overtime."
   ]
  },
  {
   "cell_type": "code",
   "execution_count": 6,
   "metadata": {},
   "outputs": [
    {
     "name": "stdout",
     "output_type": "stream",
     "text": [
      "Overwritting existing folder\n"
     ]
    }
   ],
   "source": [
    "start_regex = r\"\"\"(?i)(staff\\sreview\\sof\\sthe\\seconomic|the\\sinformation\\s[\\s]?(?:reviewed|received|provided)|the\\scommittee\\sthen\\sturned\\sto\\sa\\sdiscussion\\sof\\sthe\\seconomic\\soutlook|in\\sthe\\scommittee[\\']?s\\sdiscussion\\sof\\scurrent\\sand\\sprospective\\seconomic)\"\"\"\n",
    "end_regex = r\"\"\"(?i)(at\\sthe\\sconclusion\\sof\\s[\\s]?(?:the|this)\\s(?:discussion|meetings)|the\\scommitte\\svoted\\sto\\sauthorize|the\\svote\\sencompassed\\sapproval\\sof)\"\"\"\n",
    "file_stats = fed_mins.truncate_text(start_regex,end_regex,return_stats=True)"
   ]
  },
  {
   "cell_type": "code",
   "execution_count": 7,
   "metadata": {},
   "outputs": [
    {
     "data": {
      "text/html": [
       "<div>\n",
       "<style scoped>\n",
       "    .dataframe tbody tr th:only-of-type {\n",
       "        vertical-align: middle;\n",
       "    }\n",
       "\n",
       "    .dataframe tbody tr th {\n",
       "        vertical-align: top;\n",
       "    }\n",
       "\n",
       "    .dataframe thead th {\n",
       "        text-align: right;\n",
       "    }\n",
       "</style>\n",
       "<table border=\"1\" class=\"dataframe\">\n",
       "  <thead>\n",
       "    <tr style=\"text-align: right;\">\n",
       "      <th></th>\n",
       "      <th>size_pct_change</th>\n",
       "    </tr>\n",
       "  </thead>\n",
       "  <tbody>\n",
       "    <tr>\n",
       "      <th>20200129.txt</th>\n",
       "      <td>-60.414296</td>\n",
       "    </tr>\n",
       "    <tr>\n",
       "      <th>20190130.txt</th>\n",
       "      <td>-59.268669</td>\n",
       "    </tr>\n",
       "    <tr>\n",
       "      <th>20180131.txt</th>\n",
       "      <td>-58.432987</td>\n",
       "    </tr>\n",
       "    <tr>\n",
       "      <th>20140129.txt</th>\n",
       "      <td>-57.307791</td>\n",
       "    </tr>\n",
       "    <tr>\n",
       "      <th>20050202.txt</th>\n",
       "      <td>-56.184258</td>\n",
       "    </tr>\n",
       "    <tr>\n",
       "      <th>...</th>\n",
       "      <td>...</td>\n",
       "    </tr>\n",
       "    <tr>\n",
       "      <th>20060629.txt</th>\n",
       "      <td>-14.868293</td>\n",
       "    </tr>\n",
       "    <tr>\n",
       "      <th>20060328.txt</th>\n",
       "      <td>-14.413643</td>\n",
       "    </tr>\n",
       "    <tr>\n",
       "      <th>20051101.txt</th>\n",
       "      <td>-14.146784</td>\n",
       "    </tr>\n",
       "    <tr>\n",
       "      <th>20061212.txt</th>\n",
       "      <td>-13.915782</td>\n",
       "    </tr>\n",
       "    <tr>\n",
       "      <th>20050322.txt</th>\n",
       "      <td>-13.067824</td>\n",
       "    </tr>\n",
       "  </tbody>\n",
       "</table>\n",
       "<p>143 rows × 1 columns</p>\n",
       "</div>"
      ],
      "text/plain": [
       "              size_pct_change\n",
       "20200129.txt       -60.414296\n",
       "20190130.txt       -59.268669\n",
       "20180131.txt       -58.432987\n",
       "20140129.txt       -57.307791\n",
       "20050202.txt       -56.184258\n",
       "...                       ...\n",
       "20060629.txt       -14.868293\n",
       "20060328.txt       -14.413643\n",
       "20051101.txt       -14.146784\n",
       "20061212.txt       -13.915782\n",
       "20050322.txt       -13.067824\n",
       "\n",
       "[143 rows x 1 columns]"
      ]
     },
     "execution_count": 7,
     "metadata": {},
     "output_type": "execute_result"
    }
   ],
   "source": [
    "pd.Series(file_stats).rename('size_pct_change').to_frame().sort_values(by='size_pct_change')"
   ]
  },
  {
   "cell_type": "markdown",
   "metadata": {},
   "source": [
    "At most files reduced by 60%"
   ]
  },
  {
   "cell_type": "markdown",
   "metadata": {},
   "source": [
    "# Further pre-processing"
   ]
  },
  {
   "cell_type": "code",
   "execution_count": 8,
   "metadata": {},
   "outputs": [
    {
     "name": "stdout",
     "output_type": "stream",
     "text": [
      "\u001b[1mExample Sentence\u001b[0m\n",
      "Total U . S . consumer prices, as measured by the PCE price index, increased slightly more than 1 - 1 / 2 percent over the 12 months ending in October.\n",
      "\n",
      "\u001b[1mTokenize\u001b[0m\n",
      "['Total', 'U', '.', 'S', '.', 'consumer', 'prices', ',', 'as', 'measured', 'by', 'the', 'PCE', 'price', 'index', ',', 'increased', 'slightly', 'more', 'than', '1', '-', '1', '/', '2', 'percent', 'over', 'the', '12', 'months', 'ending', 'in', 'October', '.']\n",
      "\n",
      "\u001b[1mStem tokens\u001b[0m\n",
      "['total', 'consum', 'price', 'measur', 'pce', 'price', 'index', 'increas', 'slightli', 'percent', 'month', 'end', 'octob']\n",
      "\n",
      "\u001b[1mLemmatize tokens\u001b[0m\n",
      "['total', 'consumer', 'price', 'measure', 'pce', 'price', 'index', 'increase', 'slightly', 'percent', 'month', 'end', 'october']\n"
     ]
    }
   ],
   "source": [
    "file_example = '20171213'\n",
    "sent_example = fed_mins.get_sents(file_id=file_example,stem=True,lemmatize=True)[32]\n",
    "print('\\033[1m'+\"Example Sentence\"+'\\033[0m')\n",
    "print(TreebankWordDetokenizer().detokenize(sent_example))\n",
    "\n",
    "print('\\n'+'\\033[1m'+\"Tokenize\"+'\\033[0m')\n",
    "print(sent_example)\n",
    "\n",
    "print('\\n'+'\\033[1m'+\"Stem tokens\"+'\\033[0m')\n",
    "sent_stemmed = sent_example.stem\n",
    "print(sent_stemmed)\n",
    "\n",
    "print('\\n'+'\\033[1m'+\"Lemmatize tokens\"+'\\033[0m')\n",
    "sent_lemmatized = sent_example.lemma\n",
    "print(sent_lemmatized)"
   ]
  },
  {
   "cell_type": "markdown",
   "metadata": {},
   "source": [
    "# LDA"
   ]
  },
  {
   "cell_type": "code",
   "execution_count": 9,
   "metadata": {},
   "outputs": [],
   "source": [
    "paras = fed_mins.get_paras(flatten=True,stem=True)\n",
    "def return_self(x):return x\n",
    "\n",
    "#we can use lemmatization in tokenizer\n",
    "#but tokenizer is done before stop word removal\n",
    "\n",
    "vectorizer = CountVectorizer(tokenizer=return_self,lowercase=False,preprocessor=return_self)\n",
    "bag_of_words = vectorizer.fit_transform((doc.stem for doc in paras))\n",
    "\n",
    "num_topics = 6\n",
    "\n",
    "lda_model = LatentDirichletAllocation(n_components = num_topics,\n",
    "                                    max_iter = 20,\n",
    "                                    #doc_topic_prior = 0.5,\n",
    "                                    learning_method = 'online',\n",
    "                                    random_state =10,\n",
    "                                    n_jobs=-1)\n",
    "\n",
    "lda_transform = lda_model.fit_transform(bag_of_words)\n",
    "\n",
    "def summarize_topics(model, feature_names, no_top_words):\n",
    "    topics = pd.DataFrame()\n",
    "    \n",
    "    for topic_idx, topic in enumerate(model.components_):\n",
    "        top_words = [feature_names[i]for i in topic.argsort()[:-no_top_words - 1:-1]]\n",
    "        topics[\"Topic %d:\" % (topic_idx)] = top_words\n",
    "    \n",
    "    return topics\n"
   ]
  },
  {
   "cell_type": "code",
   "execution_count": 10,
   "metadata": {},
   "outputs": [
    {
     "data": {
      "text/html": [
       "<div>\n",
       "<style scoped>\n",
       "    .dataframe tbody tr th:only-of-type {\n",
       "        vertical-align: middle;\n",
       "    }\n",
       "\n",
       "    .dataframe tbody tr th {\n",
       "        vertical-align: top;\n",
       "    }\n",
       "\n",
       "    .dataframe thead th {\n",
       "        text-align: right;\n",
       "    }\n",
       "</style>\n",
       "<table border=\"1\" class=\"dataframe\">\n",
       "  <thead>\n",
       "    <tr style=\"text-align: right;\">\n",
       "      <th></th>\n",
       "      <th>term</th>\n",
       "      <th>count</th>\n",
       "    </tr>\n",
       "  </thead>\n",
       "  <tbody>\n",
       "    <tr>\n",
       "      <th>0</th>\n",
       "      <td>inflat</td>\n",
       "      <td>6301</td>\n",
       "    </tr>\n",
       "    <tr>\n",
       "      <th>1</th>\n",
       "      <td>rate</td>\n",
       "      <td>5672</td>\n",
       "    </tr>\n",
       "    <tr>\n",
       "      <th>2</th>\n",
       "      <td>particip</td>\n",
       "      <td>5530</td>\n",
       "    </tr>\n",
       "    <tr>\n",
       "      <th>3</th>\n",
       "      <td>market</td>\n",
       "      <td>4969</td>\n",
       "    </tr>\n",
       "    <tr>\n",
       "      <th>4</th>\n",
       "      <td>price</td>\n",
       "      <td>4854</td>\n",
       "    </tr>\n",
       "  </tbody>\n",
       "</table>\n",
       "</div>"
      ],
      "text/plain": [
       "       term  count\n",
       "0    inflat   6301\n",
       "1      rate   5672\n",
       "2  particip   5530\n",
       "3    market   4969\n",
       "4     price   4854"
      ]
     },
     "execution_count": 10,
     "metadata": {},
     "output_type": "execute_result"
    }
   ],
   "source": [
    "## What are the most frequently used words\n",
    "term_counts = {i:j for i,j in zip(vectorizer.get_feature_names(),bag_of_words.toarray().sum(axis=0))}\n",
    "df_term_counts = pd.DataFrame(sorted(term_counts.items(),key=lambda x:x[1],reverse=True),columns=['term','count'])\n",
    "df_term_counts.head(5)"
   ]
  },
  {
   "cell_type": "markdown",
   "metadata": {},
   "source": [
    "We could improve our modelling by eliminating frequent words that don't add much to a topic. "
   ]
  },
  {
   "cell_type": "code",
   "execution_count": 11,
   "metadata": {},
   "outputs": [
    {
     "data": {
      "text/html": [
       "<div>\n",
       "<style scoped>\n",
       "    .dataframe tbody tr th:only-of-type {\n",
       "        vertical-align: middle;\n",
       "    }\n",
       "\n",
       "    .dataframe tbody tr th {\n",
       "        vertical-align: top;\n",
       "    }\n",
       "\n",
       "    .dataframe thead th {\n",
       "        text-align: right;\n",
       "    }\n",
       "</style>\n",
       "<table border=\"1\" class=\"dataframe\">\n",
       "  <thead>\n",
       "    <tr style=\"text-align: right;\">\n",
       "      <th></th>\n",
       "      <th>Topic 0:</th>\n",
       "      <th>Topic 1:</th>\n",
       "      <th>Topic 2:</th>\n",
       "      <th>Topic 3:</th>\n",
       "      <th>Topic 4:</th>\n",
       "      <th>Topic 5:</th>\n",
       "    </tr>\n",
       "  </thead>\n",
       "  <tbody>\n",
       "    <tr>\n",
       "      <th>0</th>\n",
       "      <td>particip</td>\n",
       "      <td>quarter</td>\n",
       "      <td>market</td>\n",
       "      <td>particip</td>\n",
       "      <td>loan</td>\n",
       "      <td>inflat</td>\n",
       "    </tr>\n",
       "    <tr>\n",
       "      <th>1</th>\n",
       "      <td>polici</td>\n",
       "      <td>increas</td>\n",
       "      <td>fund</td>\n",
       "      <td>labor</td>\n",
       "      <td>yield</td>\n",
       "      <td>price</td>\n",
       "    </tr>\n",
       "    <tr>\n",
       "      <th>2</th>\n",
       "      <td>inflat</td>\n",
       "      <td>spend</td>\n",
       "      <td>financi</td>\n",
       "      <td>rate</td>\n",
       "      <td>remain</td>\n",
       "      <td>expect</td>\n",
       "    </tr>\n",
       "    <tr>\n",
       "      <th>3</th>\n",
       "      <td>econom</td>\n",
       "      <td>product</td>\n",
       "      <td>secur</td>\n",
       "      <td>busi</td>\n",
       "      <td>credit</td>\n",
       "      <td>year</td>\n",
       "    </tr>\n",
       "    <tr>\n",
       "      <th>4</th>\n",
       "      <td>committe</td>\n",
       "      <td>real</td>\n",
       "      <td>rate</td>\n",
       "      <td>continu</td>\n",
       "      <td>period</td>\n",
       "      <td>consum</td>\n",
       "    </tr>\n",
       "    <tr>\n",
       "      <th>5</th>\n",
       "      <td>would</td>\n",
       "      <td>busi</td>\n",
       "      <td>treasuri</td>\n",
       "      <td>sector</td>\n",
       "      <td>market</td>\n",
       "      <td>measur</td>\n",
       "    </tr>\n",
       "    <tr>\n",
       "      <th>6</th>\n",
       "      <td>rate</td>\n",
       "      <td>declin</td>\n",
       "      <td>period</td>\n",
       "      <td>employ</td>\n",
       "      <td>bank</td>\n",
       "      <td>staff</td>\n",
       "    </tr>\n",
       "    <tr>\n",
       "      <th>7</th>\n",
       "      <td>risk</td>\n",
       "      <td>good</td>\n",
       "      <td>asset</td>\n",
       "      <td>market</td>\n",
       "      <td>declin</td>\n",
       "      <td>percent</td>\n",
       "    </tr>\n",
       "    <tr>\n",
       "      <th>8</th>\n",
       "      <td>expect</td>\n",
       "      <td>manufactur</td>\n",
       "      <td>term</td>\n",
       "      <td>recent</td>\n",
       "      <td>bond</td>\n",
       "      <td>energi</td>\n",
       "    </tr>\n",
       "    <tr>\n",
       "      <th>9</th>\n",
       "      <td>feder</td>\n",
       "      <td>sale</td>\n",
       "      <td>feder</td>\n",
       "      <td>hous</td>\n",
       "      <td>intermeet</td>\n",
       "      <td>month</td>\n",
       "    </tr>\n",
       "  </tbody>\n",
       "</table>\n",
       "</div>"
      ],
      "text/plain": [
       "   Topic 0:    Topic 1:  Topic 2:  Topic 3:   Topic 4: Topic 5:\n",
       "0  particip     quarter    market  particip       loan   inflat\n",
       "1    polici     increas      fund     labor      yield    price\n",
       "2    inflat       spend   financi      rate     remain   expect\n",
       "3    econom     product     secur      busi     credit     year\n",
       "4  committe        real      rate   continu     period   consum\n",
       "5     would        busi  treasuri    sector     market   measur\n",
       "6      rate      declin    period    employ       bank    staff\n",
       "7      risk        good     asset    market     declin  percent\n",
       "8    expect  manufactur      term    recent       bond   energi\n",
       "9     feder        sale     feder      hous  intermeet    month"
      ]
     },
     "execution_count": 11,
     "metadata": {},
     "output_type": "execute_result"
    }
   ],
   "source": [
    "df_results = summarize_topics(lda_model,vectorizer.get_feature_names(),10)\n",
    "df_results\n"
   ]
  },
  {
   "cell_type": "code",
   "execution_count": 12,
   "metadata": {},
   "outputs": [],
   "source": [
    "#Dictionary with topivs\n",
    "topic_dict = {0 : 'Outlook',\n",
    "              1 : 'Aggregate Demand',\n",
    "              2 : 'Financial Market', \n",
    "              3 : 'Labour', \n",
    "              4 : 'Credit Market',\n",
    "              5 : 'Inflation'}\n"
   ]
  },
  {
   "cell_type": "code",
   "execution_count": 13,
   "metadata": {},
   "outputs": [
    {
     "name": "stderr",
     "output_type": "stream",
     "text": [
      "/Users/jonny/anaconda/envs/orbenv/lib/python3.8/site-packages/past/builtins/misc.py:45: DeprecationWarning: the imp module is deprecated in favour of importlib; see the module's documentation for alternative uses\n",
      "  from imp import reload\n",
      "/Users/jonny/anaconda/envs/orbenv/lib/python3.8/site-packages/past/builtins/misc.py:45: DeprecationWarning: the imp module is deprecated in favour of importlib; see the module's documentation for alternative uses\n",
      "  from imp import reload\n",
      "/Users/jonny/anaconda/envs/orbenv/lib/python3.8/site-packages/past/builtins/misc.py:45: DeprecationWarning: the imp module is deprecated in favour of importlib; see the module's documentation for alternative uses\n",
      "  from imp import reload\n",
      "/Users/jonny/anaconda/envs/orbenv/lib/python3.8/site-packages/past/builtins/misc.py:45: DeprecationWarning: the imp module is deprecated in favour of importlib; see the module's documentation for alternative uses\n",
      "  from imp import reload\n"
     ]
    },
    {
     "data": {
      "text/html": [
       "\n",
       "<link rel=\"stylesheet\" type=\"text/css\" href=\"https://cdn.jsdelivr.net/gh/bmabey/pyLDAvis@3.3.1/pyLDAvis/js/ldavis.v1.0.0.css\">\n",
       "\n",
       "\n",
       "<div id=\"ldavis_el6023755136451844049382549\"></div>\n",
       "<script type=\"text/javascript\">\n",
       "\n",
       "var ldavis_el6023755136451844049382549_data = {\"mdsDat\": {\"x\": [-0.02669713654718887, 0.12106871411338857, 0.08602775197533763, -0.02128720549397784, 0.15725313283889797, -0.31636525688645767], \"y\": [-0.24943412060296516, -0.019015965021787328, -0.09285992726577291, 0.10780194871317245, 0.18185007254031, 0.07165799163704294], \"topics\": [1, 2, 3, 4, 5, 6], \"cluster\": [1, 1, 1, 1, 1, 1], \"Freq\": [27.548472308965156, 18.96835217248461, 17.69139459002998, 17.151958051727306, 11.880202735065273, 6.759620141727675]}, \"tinfo\": {\"Term\": [\"inflat\", \"particip\", \"quarter\", \"market\", \"fund\", \"price\", \"polici\", \"committe\", \"financi\", \"feder\", \"period\", \"secur\", \"loan\", \"bank\", \"risk\", \"yield\", \"spend\", \"treasuri\", \"member\", \"real\", \"expect\", \"percent\", \"product\", \"busi\", \"staff\", \"asset\", \"term\", \"purchas\", \"would\", \"rate\", \"member\", \"target\", \"appropri\", \"assess\", \"downsid\", \"statement\", \"stanc\", \"action\", \"maximum\", \"goal\", \"guidanc\", \"decis\", \"upsid\", \"warrant\", \"implic\", \"emphas\", \"monitor\", \"achiev\", \"shock\", \"remov\", \"mandat\", \"decid\", \"languag\", \"promot\", \"evolv\", \"valuat\", \"symmetr\", \"consid\", \"tool\", \"foster\", \"polici\", \"pose\", \"committe\", \"monetari\", \"risk\", \"agre\", \"maintain\", \"would\", \"view\", \"outlook\", \"judg\", \"path\", \"feder\", \"current\", \"econom\", \"could\", \"rang\", \"object\", \"particip\", \"accommod\", \"develop\", \"inflat\", \"meet\", \"fund\", \"expect\", \"rate\", \"time\", \"longer\", \"note\", \"financi\", \"condit\", \"market\", \"term\", \"percent\", \"like\", \"continu\", \"core\", \"pce\", \"food\", \"cpi\", \"michigan\", \"hourli\", \"\\u2011\", \"dispos\", \"gasolin\", \"univers\", \"median\", \"twelv\", \"reuter\", \"profession\", \"dalla\", \"thomson\", \"four\", \"nonsupervisori\", \"counterbalanc\", \"consumpt\", \"calcul\", \"unrevis\", \"shelter\", \"chip\", \"forecast\", \"assum\", \"outlet\", \"\\u2013\", \"blue\", \"item\", \"headlin\", \"energi\", \"staff\", \"compens\", \"gdp\", \"revis\", \"worth\", \"price\", \"project\", \"measur\", \"consum\", \"inflat\", \"percent\", \"year\", \"survey\", \"half\", \"run\", \"expect\", \"month\", \"littl\", \"base\", \"chang\", \"longer\", \"growth\", \"real\", \"recent\", \"end\", \"increas\", \"remain\", \"declin\", \"econom\", \"rate\", \"term\", \"continu\", \"contact\", \"forc\", \"district\", \"famili\", \"singl\", \"permit\", \"claim\", \"multifamili\", \"popul\", \"work\", \"skill\", \"cautiou\", \"hispan\", \"african\", \"unsold\", \"find\", \"perman\", \"variant\", \"age\", \"reopen\", \"hospit\", \"occup\", \"cyclic\", \"white\", \"layoff\", \"distress\", \"demograph\", \"foreclosur\", \"undertaken\", \"homebuy\", \"hous\", \"hire\", \"workweek\", \"home\", \"worker\", \"shortag\", \"start\", \"vaccin\", \"anecdot\", \"downturn\", \"job\", \"save\", \"insur\", \"loss\", \"vulner\", \"wage\", \"report\", \"employ\", \"sector\", \"pandem\", \"household\", \"particip\", \"labor\", \"busi\", \"unemploy\", \"note\", \"demand\", \"mani\", \"activ\", \"recent\", \"spend\", \"payrol\", \"continu\", \"improv\", \"sever\", \"level\", \"rate\", \"remain\", \"market\", \"growth\", \"increas\", \"condit\", \"like\", \"price\", \"indic\", \"econom\", \"grade\", \"euro\", \"china\", \"loan\", \"currenc\", \"specul\", \"eme\", \"japan\", \"sloo\", \"c\", \"card\", \"afe\", \"canada\", \"m2\", \"p\", \"kingdom\", \"bond\", \"score\", \"automot\", \"mexico\", \"chines\", \"asian\", \"asia\", \"yield\", \"student\", \"brazil\", \"german\", \"vix\", \"america\", \").\", \"subprim\", \"deficit\", \"widen\", \"corpor\", \"cre\", \"sovereign\", \"issuanc\", \"equiti\", \"export\", \"nonfinanci\", \"foreign\", \"financ\", \"standard\", \"credit\", \"commerci\", \"narrow\", \"emerg\", \"spread\", \"bank\", \"lend\", \"dollar\", \"net\", \"intermeet\", \"mortgag\", \"period\", \"trade\", \"import\", \"remain\", \"index\", \"declin\", \"market\", \"economi\", \"quarter\", \"continu\", \"growth\", \"increas\", \"price\", \"condit\", \"rate\", \"year\", \"vehicl\", \"motor\", \"equip\", \"nonresidenti\", \"shipment\", \"mine\", \"outlay\", \"drill\", \"nondefens\", \"aircraft\", \"softwar\", \"factori\", \"tech\", \"assembl\", \"ga\", \"defens\", \"transport\", \"automak\", \"rig\", \"manufactur\", \"intellectu\", \"comput\", \"semiconductor\", \"diffus\", \"e\", \"weekli\", \"sideway\", \"ip\", \"unfil\", \"shutdown\", \"local\", \"good\", \"expenditur\", \"inventori\", \"order\", \"schedul\", \"product\", \"quarter\", \"industri\", \"govern\", \"capit\", \"fourth\", \"sale\", \"third\", \"output\", \"spend\", \"construct\", \"real\", \"first\", \"busi\", \"juli\", \"second\", \"increas\", \"nomin\", \"rose\", \"declin\", \"gain\", \"appear\", \"sector\", \"month\", \"indic\", \"pace\", \"continu\", \"agenc\", \"mb\", \"dealer\", \"swap\", \"overnight\", \"primari\", \"paper\", \"municip\", \"default\", \"desk\", \"repo\", \"ecb\", \"auction\", \"money\", \"reinvest\", \"system\", \"collater\", \"bid\", \"oi\", \"repurchas\", \"mmf\", \"rrp\", \"unsecur\", \"cp\", \"interbank\", \"author\", \"ask\", \"secondari\", \"roll\", \"england\", \"billion\", \"facil\", \"liquid\", \"function\", \"secur\", \"program\", \"day\", \"asset\", \"announc\", \"reserv\", \"deposit\", \"short\", \"treasuri\", \"matur\", \"institut\", \"fund\", \"debt\", \"financi\", \"market\", \"purchas\", \"bank\", \"period\", \"hold\", \"feder\", \"term\", \"rate\", \"intermeet\", \"spread\", \"end\", \"back\", \"condit\", \"level\", \"increas\", \"remain\"], \"Freq\": [6270.0, 5615.0, 3355.0, 4919.0, 1887.0, 4714.0, 2994.0, 2685.0, 2177.0, 2276.0, 2434.0, 1091.0, 1315.0, 1465.0, 1970.0, 1175.0, 1982.0, 995.0, 1455.0, 2188.0, 3762.0, 2004.0, 1438.0, 2237.0, 1380.0, 844.0, 2542.0, 1257.0, 3149.0, 5635.0, 1454.6530510634752, 808.0677778902011, 779.0060093578363, 719.7507260358534, 523.2321677073202, 441.2852979318333, 396.50574191885863, 320.93989378408673, 310.2460930458586, 291.7100239797557, 265.68120852892895, 249.05322968472404, 238.43778898502893, 199.8051457164386, 184.0199716613248, 174.75924470926617, 173.99687809592032, 168.10904792269463, 164.81720425320165, 147.83514176865492, 145.11365142360674, 136.82110940454962, 127.23633422457817, 120.45678451234349, 114.23427454207484, 114.25487471810848, 108.56152427996165, 96.23815542026053, 95.57182520667341, 95.5617557595099, 2878.600675901016, 163.51889526303432, 2552.3966964839838, 1256.6208191895098, 1859.865199328296, 832.248140600216, 384.77825234502575, 2520.1190200580318, 833.8933616943082, 1558.02345036273, 626.3311432500046, 508.5920830910425, 1600.3987449208375, 619.5271959651071, 2828.330208541753, 936.5475739889149, 801.7190962822384, 641.8941042771011, 3027.4857463566627, 738.1986455225142, 655.2179256995653, 2830.936761926748, 1077.9883941099317, 1125.8999570477026, 1789.0575137958551, 2091.9887354075986, 802.5126966029741, 962.9171564999035, 911.1810436530694, 996.681843199939, 1081.8552053507472, 1375.1781189756784, 935.0713915910821, 839.7948521143314, 787.4593006258525, 813.8768797147841, 827.7829647622896, 741.7778561215641, 346.55960936507495, 198.5292530528362, 181.4747934226267, 167.33470863617788, 162.15787141511953, 147.78624834309147, 119.69568612670915, 102.7193442015492, 96.50372413536554, 60.93376070788752, 43.232214081466374, 40.14485804723078, 34.463730426440655, 32.65273903032659, 100.54781078216867, 32.73048958979556, 28.01820045775676, 217.86304210331525, 24.1390185177257, 17.982126786633554, 13.164995299553832, 13.399932752709224, 769.6226345574122, 143.3276799327591, 12.280416055662176, 34.16870008501825, 10.780815327816207, 70.95829783682065, 167.0529860771287, 1145.1177749602543, 1175.1866410580003, 562.8777492547433, 818.0613483769781, 379.03659722998754, 87.96004447786825, 3164.087651826055, 999.1007210527578, 1311.1047129972683, 1529.846750684339, 3439.1456596329976, 1163.0318697274543, 1609.738045555701, 698.7026730997624, 342.3290205926532, 766.2190959351102, 1616.6808639199292, 1129.767775305078, 679.563923669782, 449.7251787049099, 722.7684558699175, 747.3935326892927, 1039.9304317950148, 831.7278595138399, 932.5901442084586, 460.31430111199893, 1003.1889212333498, 913.6653204923138, 800.0655646755724, 948.9112172541985, 980.3626384135763, 726.4256192020443, 833.8603235808113, 519.4255639810076, 324.6250109585113, 282.73424865349546, 227.46546915242942, 226.08019552197052, 143.02316445084384, 132.0036369961787, 121.94108136203921, 94.53238126537435, 88.00946238036033, 82.81706016480528, 70.63187431910457, 69.45380483551547, 69.33130842984045, 45.89136738195975, 41.693086435298355, 38.44611641264924, 39.21352105204104, 36.456060606819584, 62.21747647678288, 31.977225142006642, 31.591030963186114, 33.055208097288556, 30.11959479120974, 29.12162713192011, 28.82997230557733, 28.232889930511803, 28.29335242561483, 28.64884115469257, 27.73811471272792, 863.9181776000189, 247.69120922047654, 41.733052131083944, 729.8099889549844, 363.8693371234477, 115.71624290264013, 350.86996566787485, 109.22830239460308, 84.67566200121063, 56.99842961748671, 420.7335590418357, 106.70908292022602, 160.96323637316806, 134.99037444966496, 137.9504701066999, 322.6146733682082, 675.2325337102639, 916.5639538082266, 945.2489748272814, 305.67187597860527, 704.2121094483198, 2496.880707084258, 1209.7091024981694, 1112.0938830704483, 711.6536690402718, 821.0272263956073, 491.41900205011433, 416.3136377884604, 760.9636940260115, 902.1961197784992, 720.2499572813156, 286.10102880041615, 992.8760480427779, 501.9465460317764, 459.9056501319272, 702.1781796962032, 1124.5986665968494, 834.6211744936492, 914.7434042881947, 664.5304872036093, 622.5672669195056, 510.715953989845, 452.527061812896, 542.754421293419, 468.93371086792285, 427.7427932272332, 296.08340201871886, 296.1929897710319, 235.11488223321385, 1310.6748952918426, 209.02320345242373, 201.66485068457644, 189.39924673798254, 182.76429821897796, 147.8228672427358, 146.19829618615387, 146.31204850807902, 141.0596739726466, 124.35679904229826, 113.59834090973527, 116.0570434737591, 101.11527101634566, 772.8126117105052, 86.9945526229617, 84.75520718763096, 84.40220601041129, 63.656510808668386, 65.15292301518956, 57.202231754288825, 1157.2414540416646, 51.30285585118048, 47.52397104302586, 47.02711398831542, 44.836053947927375, 42.39419032638034, 39.84216522958474, 74.46569993851661, 188.74305503680702, 217.9820362272053, 612.9144335491355, 212.97522618838371, 207.64369074835093, 577.740444035969, 662.035063090324, 633.2432852255708, 328.8288803515496, 701.0850626184482, 415.0806155539039, 342.4043742627239, 1042.087733823878, 463.3819892685946, 276.0388640291135, 327.8812150896455, 598.7760618864645, 898.0581991760898, 293.6381360901703, 401.20242160519706, 616.9087139000478, 739.6625340964041, 524.1959028198904, 975.8476697947505, 382.9891676058437, 489.4028350291144, 1045.3508890024082, 499.0216772697831, 861.2575753579108, 947.0130871192123, 550.9657454372879, 729.019566342105, 735.937318691635, 678.7418360775192, 695.2972098533311, 689.5531566837425, 545.3563840533436, 500.41972838458497, 451.11906667069826, 545.4999295186441, 514.9437100432559, 453.52877072158657, 232.02854186707685, 213.85811164149993, 201.89468786705203, 186.0663358210135, 182.17826004379054, 157.47358687356459, 151.49877634130291, 142.67720542799805, 119.52255181946592, 111.77785894595667, 104.66426957896631, 104.58152097678145, 94.70607724727437, 87.775130470455, 80.18442616688547, 62.20255985807617, 637.7508880997433, 55.44519605605136, 50.186570915852805, 37.19830197132264, 25.109457747963628, 25.070383716148328, 30.315201465715887, 21.87615270258331, 18.838903447641364, 17.77233987496446, 51.85488920112408, 212.344427314459, 648.815883626054, 392.4715660489604, 415.64038536980206, 291.71949691776285, 97.24066504806413, 916.8733797327793, 1923.2077675033229, 537.2090396682382, 443.39240643941747, 447.10508257854525, 464.6964124486551, 601.6160920759312, 444.31214961404686, 431.0779738604635, 950.9077549760616, 389.3114045576178, 911.2887124594749, 579.4191061603842, 759.8746861317574, 383.85500223379, 437.14401753220005, 961.7294461232211, 371.87038411992285, 461.5071245341863, 708.3283704095874, 437.50681117606837, 431.4291419598882, 462.2429858223761, 500.8996581737358, 481.15049853672764, 450.75357018809376, 416.8451329502706, 351.5357301444092, 199.79760233597392, 191.74158792092828, 148.2781887286886, 138.84326992020354, 137.27738353384296, 134.4402415850036, 128.7142339803431, 108.9165391734891, 107.99216098629718, 77.00022065504415, 66.79934494991156, 65.54976282362435, 157.88985290903221, 79.46680570339683, 141.25598798131776, 57.504585842885476, 54.44952846682188, 53.897986624501186, 53.34007790482578, 47.14722373830263, 46.7340458283415, 44.21479266996934, 43.67790622070084, 43.024310197435994, 43.02786215925781, 38.33489685821829, 37.62203312886316, 36.24188280302362, 35.0164010668947, 162.22439284279005, 182.55235710391295, 334.88515457326656, 119.5857449562969, 732.5256761343026, 267.1104702783944, 74.93989569834531, 545.0779658054922, 201.35382816606827, 454.1186024113214, 126.32136713803696, 220.82721897664828, 589.3179823115287, 201.31547620739377, 170.84183787855704, 750.5927050363981, 262.4538322992457, 732.6585945086806, 1117.307324596681, 464.54960085466695, 488.56412851222115, 576.6265064534633, 203.98509648041897, 500.34213121780687, 526.0597595113704, 719.1258186042548, 359.26999552333336, 268.88922536878226, 245.03911172098353, 215.91998947892452, 252.37225145514662, 225.72437525849548, 202.32727497277318, 191.8586784306636], \"Total\": [6270.0, 5615.0, 3355.0, 4919.0, 1887.0, 4714.0, 2994.0, 2685.0, 2177.0, 2276.0, 2434.0, 1091.0, 1315.0, 1465.0, 1970.0, 1175.0, 1982.0, 995.0, 1455.0, 2188.0, 3762.0, 2004.0, 1438.0, 2237.0, 1380.0, 844.0, 2542.0, 1257.0, 3149.0, 5635.0, 1455.493810665371, 808.9114322452248, 779.8454057282528, 720.5944771426587, 524.0752689431897, 442.12630389902483, 397.3458441184313, 321.7875313464847, 311.08771384586015, 292.55044983043956, 266.52026666670275, 249.8968123333387, 239.3110381154777, 200.64449392270464, 184.86622853473952, 175.60160174003448, 174.83860727318302, 168.95075500187485, 165.6597010167775, 148.67461767514465, 145.95431993107195, 137.66250771591763, 128.07524036378214, 121.29760728994654, 115.07703512249944, 115.12905620640737, 109.4010543387061, 97.08080468863099, 96.41167455864765, 96.4054830413449, 2994.1593755523663, 165.24504811606926, 2685.5718636825463, 1313.538373143315, 1970.7367078546545, 880.3978663370415, 415.2082128502764, 3149.0649796726448, 981.4042163814408, 1947.6803109430973, 727.0323214915024, 582.5247618804563, 2276.176366862593, 759.7740267095559, 4572.801356807537, 1259.1194633596579, 1065.5536597990126, 828.9650853085801, 5615.28618433819, 1018.4275052673007, 875.989677561801, 6270.757683233204, 1742.9229204893554, 1887.9164008277567, 3762.722597302957, 5635.334673730119, 1237.557628567161, 1791.003308738525, 1763.1934133090413, 2177.531734489409, 2657.0417367787886, 4919.352527201597, 2542.39462378996, 2004.2974142841306, 1550.5501212759928, 3889.0345257829217, 828.6220506922936, 742.6145098028392, 347.39715134805124, 199.36549471464892, 182.3113535874238, 168.17190139740129, 163.0076390981971, 148.6271388339718, 120.53594590556624, 103.55691864251848, 97.3507878840524, 61.771605323447076, 44.06896045061426, 40.98328462980747, 35.299610719228426, 33.48886735711001, 103.3351606925153, 33.66626861811023, 28.855459816592706, 226.0329477038099, 25.05039772995207, 18.816994861752235, 14.00082834503509, 14.255661749074934, 818.941586309798, 152.74112336145558, 13.123356747245701, 36.79275325605495, 11.61590874167712, 76.54319853583515, 186.01734733958793, 1341.430186623394, 1380.0217991091886, 658.3293178454664, 969.1441726890523, 454.8852627569932, 98.76727001173705, 4714.030868073719, 1358.09584890481, 1830.6163732469042, 2367.65456536573, 6270.757683233204, 2004.2974142841306, 3067.4760314735768, 1188.2496066748265, 503.95003003584867, 1411.7221157940228, 3762.722597302957, 2419.620578489591, 1304.4809549565705, 798.600419001166, 1664.6626099637224, 1791.003308738525, 3113.048319292603, 2188.7012578775875, 2651.426138141715, 947.8131789423726, 4182.6498298771285, 3746.773235350639, 2895.293854441951, 4572.801356807537, 5635.334673730119, 2542.39462378996, 3889.0345257829217, 520.2619457052771, 325.46262252614196, 283.5695274432811, 228.30137366758308, 226.9174413914699, 143.8591784411926, 132.84316730597297, 122.77923092095578, 95.3686938965556, 88.85287203413583, 83.65151045705502, 71.47342075179002, 70.28983386519313, 70.16734240333328, 46.72672406196548, 42.5286668121647, 39.28195423626499, 40.071684574866, 37.29174524389376, 63.69257402719564, 32.81715168414953, 32.42559609587342, 33.950671512446974, 30.955167202512538, 29.958386421931635, 29.665582366245456, 29.068344749158996, 29.13113351972368, 29.508964156163238, 28.573190540647033, 902.8466970578212, 257.19125577778414, 43.07272597077924, 806.643956927149, 394.696619312911, 122.88270653059774, 395.2930681729647, 118.10980873825923, 90.90841690037915, 60.153763471043476, 508.46403264318013, 117.24675734627829, 183.0009109369612, 151.599744250996, 160.55272848340206, 423.2911562313159, 1022.2076490731187, 1498.443686737292, 1563.1281958690927, 419.0010861970868, 1160.0117104204114, 5615.28618433819, 2453.2894820871115, 2237.423170161418, 1444.8921244040816, 1763.1934133090413, 911.5690371939519, 774.867181360714, 1962.5715807105234, 2651.426138141715, 1982.0296015423116, 468.8387838228859, 3889.0345257829217, 1225.9134759763435, 1065.7597689155275, 2292.672082917247, 5635.334673730119, 3746.773235350639, 4919.352527201597, 3113.048319292603, 4182.6498298771285, 2657.0417367787886, 1550.5501212759928, 4714.030868073719, 2169.2404417537086, 4572.801356807537, 296.9208958666343, 297.03218529367706, 235.95607502837854, 1315.5755927244275, 209.86116981617425, 202.5035970242338, 190.23834480562118, 183.67591470345943, 148.66003006373472, 147.03540366985075, 147.15081892292395, 141.89684662068726, 125.19479864783582, 114.43870905183071, 116.92299594951545, 101.95326623641034, 779.2632518023166, 87.83218570033158, 85.59539176858641, 85.23977505093566, 64.4963614181463, 66.07810641412034, 58.044189166323456, 1175.1774525377684, 52.140801753810564, 48.3621382397409, 47.864632629591696, 45.67339607819803, 43.23198613683407, 40.69160516902556, 76.10853040069004, 195.79031483885902, 229.22921216879774, 669.6157930284538, 225.43048624239893, 219.91338457334484, 636.2124371345594, 759.3974598938012, 730.2985020910442, 368.262344053408, 848.4583828028044, 489.4578606268176, 408.5448469272415, 1490.9825611345955, 616.7753250575147, 330.9991524594268, 407.3852431555354, 868.3392345416471, 1465.0589452182826, 371.1692260628345, 588.1667659589566, 1104.4121737937046, 1448.8469768140455, 904.7323422889154, 2434.62125122848, 580.2376202609321, 949.3830159699394, 3746.773235350639, 1040.5020045490694, 2895.293854441951, 4919.352527201597, 1555.6802150515352, 3355.8702135155327, 3889.0345257829217, 3113.048319292603, 4182.6498298771285, 4714.030868073719, 2657.0417367787886, 5635.334673730119, 3067.4760314735768, 546.3302872965608, 515.7734857168795, 454.3579650713053, 232.85884888498353, 214.68640160626893, 202.7227973558314, 186.8966048967646, 183.0072199595588, 158.30169778782127, 152.32709383023823, 143.50658388948958, 120.35128693732156, 112.60637254669156, 105.49232367989357, 105.41082798004967, 95.53478376396124, 88.60598659488386, 81.01249944697867, 63.030698812680065, 646.4519585778676, 56.27343691119726, 51.01623724104332, 38.02712846709688, 25.939914856628924, 25.89997559377873, 31.335740544121496, 22.74128430483124, 19.666924977294755, 18.601597554616404, 54.54388055873933, 226.1383965895573, 759.316260737271, 450.3146220934409, 502.3783715029545, 355.80228485706994, 110.2400631675267, 1438.5619354744795, 3355.8702135155327, 788.3376713960008, 634.2613937690076, 663.9839650174713, 709.59707726895, 977.2283620907778, 695.7307813275395, 697.5058724166324, 1982.0296015423116, 611.751977402911, 2188.7012578775875, 1250.8313209019998, 2237.423170161418, 734.322941117763, 923.8389785573295, 4182.6498298771285, 715.7309745141648, 1145.2271064449574, 2895.293854441951, 1066.9663340386337, 1174.8442927460485, 1563.1281958690927, 2419.620578489591, 2169.2404417537086, 2036.2354181823493, 3889.0345257829217, 352.37227196881315, 200.63519403796695, 192.58389107378883, 149.1141314404585, 139.67847166311415, 138.1202550288144, 135.27791798042534, 129.55427212269305, 109.75509831305767, 108.83347036749097, 77.83484522019027, 67.63710351661273, 66.38452060544047, 159.95626798313646, 80.57464825385102, 143.2509316995214, 58.341868180004504, 55.28512474419174, 54.733451029910604, 54.17574434918853, 47.98202980513584, 47.56910311563859, 45.04929664297013, 44.51387183000477, 43.85927405062941, 43.8649912064225, 39.17181021853224, 38.45955315833271, 37.10461002620168, 35.855523326119425, 166.16870011878802, 188.88696908790163, 357.721342933266, 138.3655035995377, 1091.0844846069228, 360.643189126393, 83.35114847837323, 844.0697734251919, 267.75164740613366, 706.8255863147631, 154.6583610884456, 302.30945685276, 995.9659446217365, 296.55665964584875, 239.81982866208904, 1887.9164008277567, 479.5830532508237, 2177.531734489409, 4919.352527201597, 1257.4705239339557, 1465.0589452182826, 2434.62125122848, 356.7917885813622, 2276.176366862593, 2542.39462378996, 5635.334673730119, 1448.8469768140455, 868.3392345416471, 947.8131789423726, 631.0384386128956, 2657.0417367787886, 2292.672082917247, 4182.6498298771285, 3746.773235350639], \"Category\": [\"Default\", \"Default\", \"Default\", \"Default\", \"Default\", \"Default\", \"Default\", \"Default\", \"Default\", \"Default\", \"Default\", \"Default\", \"Default\", \"Default\", \"Default\", \"Default\", \"Default\", \"Default\", \"Default\", \"Default\", \"Default\", \"Default\", \"Default\", \"Default\", \"Default\", \"Default\", \"Default\", \"Default\", \"Default\", \"Default\", \"Topic1\", \"Topic1\", \"Topic1\", \"Topic1\", \"Topic1\", \"Topic1\", \"Topic1\", \"Topic1\", \"Topic1\", \"Topic1\", \"Topic1\", \"Topic1\", \"Topic1\", \"Topic1\", \"Topic1\", \"Topic1\", \"Topic1\", \"Topic1\", \"Topic1\", \"Topic1\", \"Topic1\", \"Topic1\", \"Topic1\", \"Topic1\", \"Topic1\", \"Topic1\", \"Topic1\", \"Topic1\", \"Topic1\", \"Topic1\", \"Topic1\", \"Topic1\", \"Topic1\", \"Topic1\", \"Topic1\", \"Topic1\", \"Topic1\", \"Topic1\", \"Topic1\", \"Topic1\", \"Topic1\", \"Topic1\", \"Topic1\", \"Topic1\", \"Topic1\", \"Topic1\", \"Topic1\", \"Topic1\", \"Topic1\", \"Topic1\", \"Topic1\", \"Topic1\", \"Topic1\", \"Topic1\", \"Topic1\", \"Topic1\", \"Topic1\", \"Topic1\", \"Topic1\", \"Topic1\", \"Topic1\", \"Topic1\", \"Topic1\", \"Topic1\", \"Topic1\", \"Topic1\", \"Topic2\", \"Topic2\", \"Topic2\", \"Topic2\", \"Topic2\", \"Topic2\", \"Topic2\", \"Topic2\", \"Topic2\", \"Topic2\", \"Topic2\", \"Topic2\", \"Topic2\", \"Topic2\", \"Topic2\", \"Topic2\", \"Topic2\", \"Topic2\", \"Topic2\", \"Topic2\", \"Topic2\", \"Topic2\", \"Topic2\", \"Topic2\", \"Topic2\", \"Topic2\", \"Topic2\", \"Topic2\", \"Topic2\", \"Topic2\", \"Topic2\", \"Topic2\", \"Topic2\", \"Topic2\", \"Topic2\", \"Topic2\", \"Topic2\", \"Topic2\", \"Topic2\", \"Topic2\", \"Topic2\", \"Topic2\", \"Topic2\", \"Topic2\", \"Topic2\", \"Topic2\", \"Topic2\", \"Topic2\", \"Topic2\", \"Topic2\", \"Topic2\", \"Topic2\", \"Topic2\", \"Topic2\", \"Topic2\", \"Topic2\", \"Topic2\", \"Topic2\", \"Topic2\", \"Topic2\", \"Topic2\", \"Topic2\", \"Topic2\", \"Topic2\", \"Topic3\", \"Topic3\", \"Topic3\", \"Topic3\", \"Topic3\", \"Topic3\", \"Topic3\", \"Topic3\", \"Topic3\", \"Topic3\", \"Topic3\", \"Topic3\", \"Topic3\", \"Topic3\", \"Topic3\", \"Topic3\", \"Topic3\", \"Topic3\", \"Topic3\", \"Topic3\", \"Topic3\", \"Topic3\", \"Topic3\", \"Topic3\", \"Topic3\", \"Topic3\", \"Topic3\", \"Topic3\", \"Topic3\", \"Topic3\", \"Topic3\", \"Topic3\", \"Topic3\", \"Topic3\", \"Topic3\", \"Topic3\", \"Topic3\", \"Topic3\", \"Topic3\", \"Topic3\", \"Topic3\", \"Topic3\", \"Topic3\", \"Topic3\", \"Topic3\", \"Topic3\", \"Topic3\", \"Topic3\", \"Topic3\", \"Topic3\", \"Topic3\", \"Topic3\", \"Topic3\", \"Topic3\", \"Topic3\", \"Topic3\", \"Topic3\", \"Topic3\", \"Topic3\", \"Topic3\", \"Topic3\", \"Topic3\", \"Topic3\", \"Topic3\", \"Topic3\", \"Topic3\", \"Topic3\", \"Topic3\", \"Topic3\", \"Topic3\", \"Topic3\", \"Topic3\", \"Topic3\", \"Topic3\", \"Topic3\", \"Topic3\", \"Topic4\", \"Topic4\", \"Topic4\", \"Topic4\", \"Topic4\", \"Topic4\", \"Topic4\", \"Topic4\", \"Topic4\", \"Topic4\", \"Topic4\", \"Topic4\", \"Topic4\", \"Topic4\", \"Topic4\", \"Topic4\", \"Topic4\", \"Topic4\", \"Topic4\", \"Topic4\", \"Topic4\", \"Topic4\", \"Topic4\", \"Topic4\", \"Topic4\", \"Topic4\", \"Topic4\", \"Topic4\", \"Topic4\", \"Topic4\", \"Topic4\", \"Topic4\", \"Topic4\", \"Topic4\", \"Topic4\", \"Topic4\", \"Topic4\", \"Topic4\", \"Topic4\", \"Topic4\", \"Topic4\", \"Topic4\", \"Topic4\", \"Topic4\", \"Topic4\", \"Topic4\", \"Topic4\", \"Topic4\", \"Topic4\", \"Topic4\", \"Topic4\", \"Topic4\", \"Topic4\", \"Topic4\", \"Topic4\", \"Topic4\", \"Topic4\", \"Topic4\", \"Topic4\", \"Topic4\", \"Topic4\", \"Topic4\", \"Topic4\", \"Topic4\", \"Topic4\", \"Topic4\", \"Topic4\", \"Topic4\", \"Topic4\", \"Topic4\", \"Topic5\", \"Topic5\", \"Topic5\", \"Topic5\", \"Topic5\", \"Topic5\", \"Topic5\", \"Topic5\", \"Topic5\", \"Topic5\", \"Topic5\", \"Topic5\", \"Topic5\", \"Topic5\", \"Topic5\", \"Topic5\", \"Topic5\", \"Topic5\", \"Topic5\", \"Topic5\", \"Topic5\", \"Topic5\", \"Topic5\", \"Topic5\", \"Topic5\", \"Topic5\", \"Topic5\", \"Topic5\", \"Topic5\", \"Topic5\", \"Topic5\", \"Topic5\", \"Topic5\", \"Topic5\", \"Topic5\", \"Topic5\", \"Topic5\", \"Topic5\", \"Topic5\", \"Topic5\", \"Topic5\", \"Topic5\", \"Topic5\", \"Topic5\", \"Topic5\", \"Topic5\", \"Topic5\", \"Topic5\", \"Topic5\", \"Topic5\", \"Topic5\", \"Topic5\", \"Topic5\", \"Topic5\", \"Topic5\", \"Topic5\", \"Topic5\", \"Topic5\", \"Topic5\", \"Topic5\", \"Topic5\", \"Topic5\", \"Topic5\", \"Topic6\", \"Topic6\", \"Topic6\", \"Topic6\", \"Topic6\", \"Topic6\", \"Topic6\", \"Topic6\", \"Topic6\", \"Topic6\", \"Topic6\", \"Topic6\", \"Topic6\", \"Topic6\", \"Topic6\", \"Topic6\", \"Topic6\", \"Topic6\", \"Topic6\", \"Topic6\", \"Topic6\", \"Topic6\", \"Topic6\", \"Topic6\", \"Topic6\", \"Topic6\", \"Topic6\", \"Topic6\", \"Topic6\", \"Topic6\", \"Topic6\", \"Topic6\", \"Topic6\", \"Topic6\", \"Topic6\", \"Topic6\", \"Topic6\", \"Topic6\", \"Topic6\", \"Topic6\", \"Topic6\", \"Topic6\", \"Topic6\", \"Topic6\", \"Topic6\", \"Topic6\", \"Topic6\", \"Topic6\", \"Topic6\", \"Topic6\", \"Topic6\", \"Topic6\", \"Topic6\", \"Topic6\", \"Topic6\", \"Topic6\", \"Topic6\", \"Topic6\", \"Topic6\", \"Topic6\", \"Topic6\", \"Topic6\", \"Topic6\", \"Topic6\"], \"logprob\": [30.0, 29.0, 28.0, 27.0, 26.0, 25.0, 24.0, 23.0, 22.0, 21.0, 20.0, 19.0, 18.0, 17.0, 16.0, 15.0, 14.0, 13.0, 12.0, 11.0, 10.0, 9.0, 8.0, 7.0, 6.0, 5.0, 4.0, 3.0, 2.0, 1.0, -4.4113, -4.9992, -5.0358, -5.1149, -5.4338, -5.6041, -5.7111, -5.9226, -5.9565, -6.0181, -6.1115, -6.1762, -6.2197, -6.3965, -6.4788, -6.5304, -6.5348, -6.5692, -6.589, -6.6977, -6.7163, -6.7752, -6.8478, -6.9025, -6.9556, -6.9554, -7.0065, -7.127, -7.1339, -7.1341, -3.7288, -6.5969, -3.849, -4.5576, -4.1656, -4.9697, -5.7412, -3.8618, -4.9677, -4.3427, -5.2539, -5.4622, -4.3158, -5.2649, -3.7464, -4.8516, -5.0071, -5.2294, -3.6783, -5.0896, -5.2089, -3.7455, -4.711, -4.6675, -4.2044, -4.048, -5.0061, -4.8239, -4.8791, -4.7894, -4.7074, -4.4675, -4.8532, -4.9607, -5.025, -4.992, -4.6019, -4.7116, -5.4726, -6.0297, -6.1195, -6.2007, -6.2321, -6.3249, -6.5357, -6.6887, -6.7511, -7.2109, -7.5541, -7.6282, -7.7807, -7.8347, -6.71, -7.8323, -7.9878, -5.9368, -8.1368, -8.4313, -8.7431, -8.7254, -4.6748, -6.3555, -8.8126, -7.7893, -8.9429, -7.0586, -6.2023, -4.2774, -4.2515, -4.9876, -4.6137, -5.383, -6.8438, -3.261, -4.4138, -4.142, -3.9877, -3.1777, -4.2619, -3.9368, -4.7714, -5.4849, -4.6792, -3.9325, -4.2909, -4.7992, -5.212, -4.7376, -4.7041, -4.3737, -4.5971, -4.4827, -5.1887, -4.4097, -4.5032, -4.636, -4.4653, -4.4327, -4.7325, -4.5946, -4.9982, -5.4683, -5.6065, -5.824, -5.8301, -6.288, -6.3681, -6.4474, -6.702, -6.7735, -6.8343, -6.9935, -7.0103, -7.0121, -7.4247, -7.5206, -7.6017, -7.5819, -7.6549, -7.1203, -7.7859, -7.7981, -7.7528, -7.8458, -7.8795, -7.8895, -7.9105, -7.9083, -7.8958, -7.9282, -4.4895, -5.7388, -7.5197, -4.6582, -5.3542, -6.4998, -5.3905, -6.5575, -6.8121, -7.2079, -5.209, -6.5809, -6.1698, -6.3458, -6.3241, -5.4745, -4.7359, -4.4303, -4.3995, -5.5284, -4.6939, -3.4282, -4.1528, -4.237, -4.6834, -4.5404, -5.0537, -5.2195, -4.6164, -4.4461, -4.6714, -5.5946, -4.3504, -5.0325, -5.1199, -4.6968, -4.2258, -4.524, -4.4323, -4.7519, -4.8171, -5.0151, -5.1361, -4.9543, -5.1005, -5.1924, -5.5294, -5.529, -5.7599, -4.0417, -5.8775, -5.9134, -5.9761, -6.0118, -6.224, -6.235, -6.2343, -6.2708, -6.3968, -6.4873, -6.4659, -6.6037, -4.57, -6.7541, -6.7802, -6.7844, -7.0665, -7.0433, -7.1734, -4.1662, -7.2822, -7.3588, -7.3693, -7.417, -7.473, -7.5351, -6.9097, -5.9796, -5.8356, -4.8018, -5.8588, -5.8842, -4.8609, -4.7247, -4.7691, -5.4245, -4.6674, -5.1915, -5.384, -4.271, -5.0814, -5.5995, -5.4273, -4.8251, -4.4198, -5.5376, -5.2255, -4.7953, -4.6138, -4.9581, -4.3367, -5.272, -5.0268, -4.2679, -5.0073, -4.4616, -4.3667, -4.9083, -4.6283, -4.6188, -4.6998, -4.6757, -4.6839, -4.9186, -5.0045, -5.1083, -4.5511, -4.6087, -4.7357, -5.4059, -5.4874, -5.545, -5.6267, -5.6478, -5.7935, -5.8322, -5.8922, -6.0692, -6.1362, -6.202, -6.2028, -6.302, -6.378, -6.4684, -6.7224, -4.3948, -6.8374, -6.937, -7.2365, -7.6295, -7.6311, -7.4411, -7.7674, -7.9168, -7.9751, -6.9043, -5.4945, -4.3776, -4.8803, -4.8229, -5.177, -6.2756, -4.0318, -3.291, -4.5664, -4.7583, -4.75, -4.7114, -4.4531, -4.7562, -4.7865, -3.9953, -4.8884, -4.0379, -4.4907, -4.2196, -4.9025, -4.7725, -3.984, -4.9342, -4.7183, -4.2898, -4.7717, -4.7857, -4.7167, -4.6363, -4.6766, -4.7418, -4.82, -4.4265, -4.9915, -5.0327, -5.2898, -5.3555, -5.3668, -5.3877, -5.4313, -5.5983, -5.6068, -5.945, -6.0872, -6.106, -5.2269, -5.9135, -5.3383, -6.237, -6.2916, -6.3018, -6.3122, -6.4356, -6.4444, -6.4998, -6.512, -6.5271, -6.527, -6.6425, -6.6613, -6.6986, -6.733, -5.1999, -5.0818, -4.4751, -5.5048, -3.6923, -4.7012, -5.9722, -3.9879, -4.9838, -4.1705, -5.45, -4.8915, -3.9099, -4.984, -5.1481, -3.668, -4.7188, -3.6922, -3.2702, -4.1478, -4.0974, -3.9317, -4.9708, -4.0736, -4.0234, -3.7108, -4.4048, -4.6945, -4.7874, -4.9139, -4.7579, -4.8695, -4.979, -5.0321], \"loglift\": [30.0, 29.0, 28.0, 27.0, 26.0, 25.0, 24.0, 23.0, 22.0, 21.0, 20.0, 19.0, 18.0, 17.0, 16.0, 15.0, 14.0, 13.0, 12.0, 11.0, 10.0, 9.0, 8.0, 7.0, 6.0, 5.0, 4.0, 3.0, 2.0, 1.0, 1.2886, 1.2882, 1.2881, 1.2881, 1.2876, 1.2873, 1.2871, 1.2866, 1.2865, 1.2863, 1.2861, 1.2858, 1.2856, 1.285, 1.2846, 1.2844, 1.2844, 1.2842, 1.2841, 1.2836, 1.2834, 1.2831, 1.2827, 1.2823, 1.2819, 1.2816, 1.2815, 1.2805, 1.2805, 1.2804, 1.2499, 1.2787, 1.2384, 1.2449, 1.2313, 1.233, 1.2131, 1.0664, 1.1263, 1.066, 1.1401, 1.1535, 0.937, 1.0852, 0.8088, 0.9933, 1.0047, 1.0335, 0.6715, 0.9674, 0.9988, 0.4939, 0.8088, 0.7723, 0.5458, 0.2983, 0.8561, 0.6687, 0.6291, 0.5077, 0.3907, 0.0146, 0.289, 0.4193, 0.6117, -0.2749, 1.6614, 1.6613, 1.66, 1.6582, 1.6578, 1.6574, 1.6572, 1.6567, 1.6554, 1.6543, 1.6537, 1.6487, 1.6432, 1.6417, 1.6384, 1.6371, 1.6351, 1.6342, 1.633, 1.6256, 1.6253, 1.617, 1.6008, 1.6005, 1.6003, 1.5988, 1.596, 1.5884, 1.5878, 1.5866, 1.5549, 1.5042, 1.5017, 1.5058, 1.4929, 1.48, 1.5465, 1.2637, 1.3554, 1.3286, 1.2257, 1.0617, 1.1181, 1.0176, 1.1314, 1.2757, 1.0513, 0.8176, 0.9008, 1.0103, 1.0882, 0.8281, 0.7885, 0.5659, 0.6948, 0.6175, 0.9402, 0.2346, 0.2512, 0.3763, 0.0898, -0.0865, 0.4097, 0.1225, 1.7305, 1.7295, 1.7291, 1.7284, 1.7284, 1.7263, 1.7258, 1.7252, 1.7233, 1.7226, 1.7221, 1.7202, 1.7201, 1.7201, 1.7141, 1.7122, 1.7106, 1.7104, 1.7094, 1.7087, 1.7062, 1.706, 1.7054, 1.7047, 1.7038, 1.7035, 1.7029, 1.7029, 1.7025, 1.7024, 1.688, 1.6945, 1.7005, 1.632, 1.6508, 1.672, 1.6129, 1.6539, 1.6611, 1.6782, 1.5427, 1.6379, 1.6038, 1.6161, 1.5804, 1.4605, 1.3174, 1.2405, 1.2291, 1.4167, 1.233, 0.9216, 1.025, 1.033, 1.0239, 0.9678, 1.1142, 1.1108, 0.7847, 0.6541, 0.7198, 1.2382, 0.3668, 0.8391, 0.8917, 0.5488, 0.1205, 0.2304, 0.0498, 0.1878, -0.1728, 0.0829, 0.5006, -0.4295, 0.2004, -0.6373, 1.7602, 1.7602, 1.7595, 1.7593, 1.7591, 1.7589, 1.7586, 1.7581, 1.7574, 1.7573, 1.7573, 1.7571, 1.7563, 1.7557, 1.7556, 1.7548, 1.7547, 1.7535, 1.7532, 1.7532, 1.75, 1.749, 1.7484, 1.7477, 1.7469, 1.7456, 1.7454, 1.7446, 1.7435, 1.742, 1.7412, 1.7264, 1.7127, 1.6746, 1.7062, 1.7056, 1.6667, 1.6259, 1.6205, 1.6498, 1.5723, 1.5982, 1.5864, 1.4048, 1.4771, 1.5815, 1.5459, 1.3914, 1.2736, 1.5287, 1.3805, 1.1807, 1.0907, 1.2173, 0.8488, 1.3476, 1.1004, 0.4865, 1.0282, 0.5506, 0.1154, 0.7251, 0.2363, 0.0983, 0.2399, -0.0313, -0.1592, 0.1795, -0.6583, -0.1538, 2.1288, 2.1287, 2.1285, 2.1267, 2.1264, 2.1262, 2.1258, 2.1258, 2.1251, 2.1248, 2.1245, 2.1234, 2.1229, 2.1224, 2.1224, 2.1216, 2.1209, 2.12, 2.1171, 2.1167, 2.1155, 2.1139, 2.1083, 2.0978, 2.0977, 2.0972, 2.0915, 2.0873, 2.0847, 2.0797, 2.0674, 1.973, 1.9928, 1.9408, 1.9317, 2.0048, 1.6799, 1.5736, 1.7468, 1.7723, 1.7348, 1.707, 1.6452, 1.6819, 1.6491, 1.3958, 1.6783, 1.2541, 1.3608, 1.0504, 1.4816, 1.382, 0.6603, 1.4755, 1.2214, 0.7224, 1.2388, 1.1285, 0.9119, 0.5553, 0.6243, 0.6224, -0.1029, 2.6918, 2.69, 2.6898, 2.6886, 2.6882, 2.6881, 2.688, 2.6877, 2.6865, 2.6864, 2.6834, 2.6817, 2.6815, 2.6812, 2.6804, 2.6802, 2.6797, 2.679, 2.6788, 2.6787, 2.6767, 2.6765, 2.6755, 2.6752, 2.675, 2.6749, 2.6726, 2.6722, 2.6707, 2.6705, 2.6702, 2.6601, 2.6282, 2.5483, 2.2958, 2.394, 2.5878, 2.2569, 2.4092, 2.2518, 2.4918, 2.3801, 2.1695, 2.3068, 2.3551, 1.7718, 2.0914, 1.6049, 1.2119, 1.6984, 1.596, 1.2539, 2.1351, 1.1792, 1.1188, 0.6354, 1.2998, 1.5219, 1.3415, 1.6217, 0.3401, 0.376, -0.3346, -0.2777]}, \"token.table\": {\"Topic\": [4, 1, 2, 4, 1, 1, 1, 2, 3, 4, 5, 4, 3, 3, 6, 1, 2, 3, 5, 4, 1, 3, 1, 4, 6, 1, 2, 3, 4, 5, 6, 1, 4, 4, 6, 5, 1, 1, 4, 6, 1, 2, 6, 6, 5, 4, 1, 2, 3, 4, 5, 6, 1, 2, 4, 6, 1, 2, 4, 5, 6, 1, 6, 2, 4, 6, 4, 1, 2, 3, 4, 5, 6, 4, 2, 4, 3, 4, 5, 6, 4, 3, 1, 2, 3, 4, 5, 6, 4, 4, 2, 3, 6, 3, 4, 5, 6, 1, 2, 1, 2, 3, 4, 5, 1, 2, 3, 4, 5, 6, 1, 2, 3, 5, 2, 3, 4, 5, 2, 4, 3, 1, 2, 3, 4, 5, 6, 2, 4, 5, 6, 1, 3, 2, 6, 2, 3, 4, 6, 1, 2, 3, 4, 6, 4, 1, 2, 3, 5, 3, 2, 2, 5, 6, 6, 4, 6, 1, 1, 1, 2, 3, 4, 5, 6, 6, 5, 1, 4, 1, 2, 3, 4, 5, 6, 3, 4, 6, 6, 1, 3, 4, 5, 2, 3, 3, 1, 2, 4, 6, 1, 3, 5, 5, 5, 6, 1, 2, 3, 4, 1, 2, 3, 4, 4, 1, 3, 4, 1, 1, 2, 3, 4, 5, 1, 2, 3, 4, 5, 6, 2, 3, 5, 6, 5, 2, 4, 4, 1, 1, 2, 3, 4, 2, 5, 2, 3, 4, 5, 6, 5, 3, 1, 2, 5, 6, 3, 4, 5, 6, 1, 2, 3, 4, 6, 3, 1, 2, 3, 4, 5, 6, 2, 3, 1, 2, 3, 1, 2, 4, 1, 2, 4, 2, 4, 5, 1, 6, 1, 4, 6, 5, 1, 2, 3, 4, 5, 2, 2, 4, 4, 1, 2, 3, 4, 5, 1, 3, 4, 5, 6, 4, 1, 2, 3, 4, 5, 1, 2, 3, 4, 5, 2, 4, 3, 5, 3, 1, 2, 3, 4, 5, 6, 2, 3, 4, 3, 3, 2, 1, 2, 3, 1, 2, 3, 4, 6, 1, 1, 2, 3, 4, 1, 2, 3, 4, 5, 6, 1, 2, 3, 4, 5, 6, 2, 4, 5, 6, 1, 2, 3, 4, 5, 6, 3, 4, 5, 1, 2, 4, 6, 3, 4, 6, 5, 6, 1, 2, 3, 4, 6, 2, 3, 5, 5, 3, 4, 6, 2, 5, 4, 2, 3, 1, 2, 3, 2, 3, 4, 5, 4, 1, 2, 3, 1, 3, 4, 6, 1, 2, 3, 4, 5, 6, 1, 2, 3, 4, 5, 1, 2, 4, 5, 6, 1, 2, 3, 4, 5, 6, 4, 6, 4, 5, 1, 2, 4, 6, 3, 4, 4, 1, 3, 4, 5, 1, 1, 2, 3, 4, 5, 3, 5, 1, 2, 3, 4, 6, 4, 6, 1, 6, 1, 2, 3, 4, 5, 2, 1, 2, 3, 4, 6, 1, 4, 2, 5, 6, 1, 2, 4, 4, 6, 1, 1, 2, 3, 4, 5, 6, 3, 4, 6, 5, 3, 6, 1, 2, 3, 4, 6, 1, 2, 4, 5, 6, 1, 2, 4, 5, 5, 4, 6, 5, 2, 1, 3, 6, 1, 2, 3, 6, 1, 5, 6, 5, 2, 1, 2, 3, 4, 1, 2, 3, 5, 6, 4, 1, 2, 3, 4, 5, 6, 3, 4, 5, 6, 6, 1, 2, 3, 1, 2, 2, 3, 5, 2, 1, 2, 4, 1, 2, 3, 4, 6, 3, 3, 1, 2, 4, 3, 1, 3, 1, 2, 3, 4, 5, 6, 6, 2, 3, 4, 5, 2, 1, 3, 6, 1, 2, 3, 5, 1, 1, 3, 4, 5, 6, 1, 2, 3, 4, 5, 1, 2, 3, 4, 6, 1, 2, 3, 4, 5, 6, 1, 2, 3, 4, 5, 1, 2, 3, 4, 5, 6, 1, 2, 3, 4, 5, 6, 1, 3, 5, 6, 1, 2, 3, 4, 5, 6, 6, 1, 2, 5, 6, 2, 1, 2, 4, 5, 1, 3, 4, 6, 2, 4, 5, 6, 6, 1, 2, 5, 6, 3, 4, 5, 2, 3, 1, 5, 6, 4, 2, 4, 5, 6, 6, 2, 3, 4, 5, 6, 1, 4, 6, 5, 1, 2, 3, 4, 5, 6, 2, 5, 1, 1, 2, 3, 5, 6, 3, 5, 4, 5, 5, 3, 3, 4, 5, 4, 6, 4, 1, 2, 3, 4, 5, 4, 6, 1, 2, 4, 6, 1, 1, 3, 4, 6, 1, 3, 4, 1, 4, 3, 4, 2, 3, 4, 5, 6, 6, 1, 1, 6, 1, 5, 1, 2, 3, 4, 5, 6, 2, 4, 5, 2, 1, 2, 3, 4, 5, 6, 1, 1, 4, 5, 5, 1, 4, 6, 2, 3, 1, 2, 3, 5, 2, 2, 6, 3, 1, 1, 3, 4, 1, 3, 5, 1, 2, 3, 4, 1, 3, 4, 2, 3, 1, 5, 3, 4, 6, 3, 2, 3, 5, 3, 4, 2, 3, 1, 2, 3, 5, 1, 2, 3, 4, 5, 6, 1, 4, 2, 2, 6], \"Freq\": [0.9830037383349034, 0.7246465714869921, 0.01276477700451341, 0.26216888155423695, 0.9943725909844895, 0.9975526356065154, 0.22929099984066995, 0.20330468652539402, 0.38775655750833293, 0.12483621102436475, 0.055029839961760786, 0.9936795873759995, 0.9833634513813676, 0.9653610943803905, 0.9989435264961878, 0.9450272789296909, 0.006815100569204501, 0.04770570398443151, 0.9912878674642266, 0.971502902204523, 0.06600048933395271, 0.9350069322309966, 0.2054142356650914, 0.04108284713301828, 0.7506956612487886, 0.14129531974998677, 0.09958766512499069, 0.18725885749998247, 0.19406827049998185, 0.3668571253749657, 0.010214119499999045, 0.9989159316422935, 0.9820104444334407, 0.9836843627545302, 0.9700853697596581, 0.995333085264218, 0.9991750184583486, 0.24997933422467294, 0.10425678394204368, 0.6456812187319751, 0.058923227759048694, 0.9362246188382181, 0.9942076767003276, 0.9802806023064732, 0.9875019354557585, 0.9930441142182502, 0.050710064620374244, 0.11092826635706866, 0.10617419779890858, 0.2947522506059253, 0.09508137116320171, 0.34229293618752615, 0.05255761227308679, 0.0006825663931569713, 0.6129446210549603, 0.33377496625375896, 0.3005257626838906, 0.5634858050322948, 0.11144497032860944, 0.023791622879141338, 0.9767546017099878, 0.018053941553706612, 0.9749128439001571, 0.9469771366688444, 0.9919625982775003, 0.007699580322981891, 0.9925119473017154, 0.002234713605669542, 0.09475185688038859, 0.49700030590090616, 0.06301892367988109, 0.3396764680617704, 0.0035755417690712674, 0.9929581335922631, 0.9580686206552266, 0.990456483330456, 0.08132726518264505, 0.09488180937975256, 0.6732090284563396, 0.15060604663452787, 0.9921793236942382, 0.9933762684532186, 0.2156593160987881, 0.4343222438424061, 0.01862239219794549, 0.19463403458497866, 0.04925923097521065, 0.0877054600290336, 0.9959480804710642, 0.9923040399918337, 0.911918382241609, 0.9936529117524657, 0.9941402599767679, 0.00486400781308858, 0.7506785391533375, 0.05836809375706296, 0.18645363283506222, 0.9502631579184821, 0.049523902822554124, 0.0425319049919217, 0.8551950896589969, 0.0015189966068543464, 0.10025377605238686, 0.9800801216239887, 0.4072197982526767, 0.06623907993758882, 0.19231914686424934, 0.20511533276128355, 0.03424861519500331, 0.09484231900154762, 0.9888669578698129, 0.06375132642082804, 0.29914083935927005, 0.6358786148128746, 0.6462091313407714, 0.158806949924268, 0.15753987319614884, 0.03758994293420174, 0.9644611646867688, 0.030968936480767807, 0.9975744032103552, 0.20930644729520098, 0.2144491118479086, 0.25533329504193436, 0.18925005553964117, 0.1072245559239543, 0.024684789852996675, 0.9992492950292913, 0.9154503319397544, 0.028374480109062537, 0.056748960218125075, 0.7441708489676115, 0.2557342725374289, 0.9703536238191985, 0.9884559170236369, 0.9981667102666284, 0.008871914501614734, 0.9448588944219692, 0.04435957250807367, 0.00536558924868459, 0.018779562370396064, 0.14956580030708294, 0.6988679996411679, 0.12676204600017343, 0.9958964785294555, 0.8160321071846955, 0.06712522172003141, 0.10529446544318652, 0.011845627362358483, 0.9719984474504889, 0.9631834263112568, 0.05998717583714313, 0.035992305502285875, 0.8998076375571469, 0.9969681209028791, 0.45039122741276516, 0.5463078776951134, 0.9951874498953281, 0.9964112694157041, 0.020723285102114308, 0.27631046802819076, 0.13608290550388397, 0.2973791412153403, 0.24453476420494882, 0.02486794212253717, 0.9931201527340089, 0.9944022088825517, 0.030645029632534022, 0.9653184334248216, 0.03949234619773553, 0.04607440389735811, 0.5386317217524484, 0.27754343300075246, 0.06362655776301834, 0.0340072981147167, 0.9632471419209412, 0.18104420480692562, 0.8146989216311653, 0.9923417826825089, 0.7477257058817223, 0.14269574539727525, 0.1084487665019292, 0.9637656922999217, 0.995780455447828, 0.9775638193099226, 0.9979915774151895, 0.030603565250159125, 0.19722297605658104, 0.6817794258507672, 0.0901104976810241, 0.9979482547509673, 0.9475716349391569, 0.033248127541724806, 0.9944962829347314, 0.9652518748320786, 0.9905805617998376, 0.6184392846608024, 0.20753142897563703, 0.0935968931523421, 0.0802571490348354, 0.48274702778496253, 0.037925532142893195, 0.12470429213086916, 0.35418590187685, 0.9934905615012237, 0.1350073448266794, 0.05891229592436919, 0.8051347109663789, 0.9965740532314442, 0.2576006048251807, 0.1127836844959988, 0.6119682762297687, 0.0006673590798579811, 0.017351336076307507, 0.04220240959788555, 0.48532771037568384, 0.011605662639418526, 0.1582590359920708, 0.04325746983783269, 0.258489758787049, 0.8535665973658741, 0.12225757377118197, 0.02385513634559648, 0.9761397060548211, 0.9992121518740206, 0.12773284758361594, 0.8717437639211727, 0.9965250052190252, 0.9906407466845758, 0.47545359875381693, 0.4297420174314824, 0.04278816623776664, 0.05208994150684634, 0.1265781682482707, 0.8705024904091598, 0.06024933622897483, 0.07120376099787935, 0.8667688598395697, 0.031765028731059804, 0.9688333762973239, 0.9970811534611631, 0.9942997554211919, 0.7029332275360488, 0.0021966663360501524, 0.07468665542570518, 0.21966663360501523, 0.020430768007676157, 0.8478768723185605, 0.01838769120690854, 0.11236922404221886, 0.4578578507990278, 0.0009184711149428843, 0.09643946706900285, 0.10837959156326035, 0.3366196636265671, 0.9875691656524375, 0.04796809849367442, 0.27101975648926047, 0.002398404924683721, 0.21265856998862326, 0.46289215046395815, 0.002398404924683721, 0.9988567800671073, 0.9985785694143579, 0.05983332733265759, 0.940238000941762, 0.9611709747251054, 0.04007267850626229, 0.13318272562375408, 0.8262043421438195, 0.9957939836142826, 0.9774020703421189, 0.019354496442418195, 0.13810654403647754, 0.2071598160547163, 0.6553014589485924, 0.13009022864612435, 0.8672681909741623, 0.5964247143074267, 0.005826529180623174, 0.397793037695273, 0.99610260171633, 0.0018744733888928704, 0.22306233327825156, 0.32334665958402015, 0.041238414555643144, 0.4105096721675386, 0.9955536425126981, 0.8440436655882916, 0.1547757332985865, 0.9819358766151451, 0.9981184447647966, 0.10009004670360477, 0.026339485974632836, 0.01975461448097463, 0.8547163198768355, 0.042569199805077784, 0.023649555447265436, 0.045722473864713176, 0.6984502042092392, 0.18919644357812349, 0.9968985144546785, 0.1875974736340443, 0.33407769277295557, 0.21361698624424563, 0.21811418595465082, 0.046899368408511076, 0.9980479283125085, 0.6786387133971828, 0.07143565404180872, 0.09524753872241162, 0.15279292670053532, 0.89776573200525, 0.09676516871912874, 0.9642629538473677, 0.03499341364768673, 0.9816497807112923, 0.17377081531645627, 0.01681653051449577, 0.13733499920171544, 0.06446336697223377, 0.03363306102899154, 0.5717620374928561, 0.03967053831519628, 0.9049841553154151, 0.05454699018339488, 0.9799395681825719, 0.9750998596095648, 0.9930315267433886, 0.0011076077514142546, 0.04208909455374167, 0.9569730972219159, 0.002586180788565264, 0.3051693330507011, 0.6068904250499819, 0.07413718260553756, 0.011206783417116143, 0.995314295414553, 0.19275676615410864, 0.24963581190450138, 0.04107931081972807, 0.5150713587396674, 0.20800815473287182, 0.14682928569379186, 0.4094905634349084, 0.13704066664753908, 0.030997293646467174, 0.06770461506991514, 0.16687985568720315, 0.239800136467428, 0.14894863910190195, 0.1661626070237911, 0.22999773806746338, 0.048294743336411226, 0.4132620582373145, 0.4795762024660929, 0.07784703887726158, 0.02883223662120799, 0.2899632460712787, 0.16687868851796964, 0.2162047097097452, 0.10464492346292571, 0.2217365999368602, 0.0004609908522595846, 0.10909030878571341, 0.20803268187043022, 0.6811801839293965, 0.4514605958335063, 0.5484185761467426, 0.28354619540577425, 0.7130352855056971, 0.8797770414129802, 0.021857814693490192, 0.09836016612070586, 0.9773705502792229, 0.9804083841050927, 0.12078570256247333, 0.10698162226961924, 0.013804080292854095, 0.5107509708356015, 0.247783241256731, 0.017914783976616857, 0.153270929577722, 0.8280611260302903, 0.966089005878412, 0.0754464974249599, 0.9085015731588921, 0.015718020296866645, 0.92758078259246, 0.06532259032341267, 0.9963200689401728, 0.17110354796924868, 0.8279838355753298, 0.8610346218387716, 0.02750909334948152, 0.11003637339792607, 0.18248102094703655, 0.009532590646486984, 0.2846159207308257, 0.5229306868930003, 0.9906499686415157, 0.2690265477511083, 0.23764011718014563, 0.4932153375436985, 0.9916046195913585, 0.9680094111734259, 0.7920915295661642, 0.20745254345780492, 0.20500096961182585, 0.10729837983938119, 0.30619293759042926, 0.12300058176709551, 0.15963905293176225, 0.09857493432398434, 0.5075617931991485, 0.0586888477523793, 0.2921543739761299, 0.050949659037779836, 0.09029053500366047, 0.005590944011336517, 0.0027954720056682586, 0.013977360028341292, 0.03913660807935562, 0.9364831218988666, 0.023764241158301978, 0.5212801286337208, 0.014565180064765728, 0.2552739453456309, 0.10118967202889874, 0.08432472669074895, 0.9965219841796001, 0.003040494230906484, 0.05748692038174785, 0.9374790093023496, 0.537687448873715, 0.41708465660297517, 0.017867080336405897, 0.026800620504608845, 0.8905028215383224, 0.10554107514528265, 0.9961664278156789, 0.9272456278190975, 0.012042151010637629, 0.03371802282978536, 0.026492732223402784, 0.993461516373598, 0.2671425567882426, 0.0671082751352107, 0.5368662010816856, 0.11614893773401852, 0.012905437526002057, 0.01237524288363088, 0.9869256199695626, 0.2795083280567772, 0.11485251298333028, 0.18600008739778265, 0.19250500848710403, 0.22706240177412376, 0.32034350573495823, 0.6777794173971221, 0.9965035139690567, 0.9968340846628994, 0.14749130617744333, 0.7161522311060303, 0.07593070947653563, 0.04697871233800046, 0.013656602423837344, 0.9963966610679085, 0.6185012471448439, 0.30638187938343847, 0.026966195376444957, 0.029834939565428466, 0.01835996280949444, 0.9996607263722095, 0.9854554396677511, 0.9928070657058943, 0.9964345531668907, 0.9795333834536795, 0.9569571972168441, 0.007613024639752141, 0.03578121580683506, 0.00625170874895272, 0.9877699823345297, 0.9952035349270845, 0.029756731547119192, 0.46701537011450955, 0.13886474721988956, 0.08927019464135758, 0.20705725701537103, 0.06819250979548148, 0.2343234458311211, 0.579176818941073, 0.18569027782843558, 0.99850033834949, 0.9936533979313045, 0.99572169938041, 0.009063467316182128, 0.0966769847059427, 0.006042311544121419, 0.8338389930887558, 0.054380803897092767, 0.0027163771562702605, 0.13219702160515268, 0.5586682351395835, 0.23270297638715232, 0.07424764227138712, 0.03492932524957425, 0.08243320758899522, 0.36186780958558923, 0.5197483597136648, 0.9917771078515785, 0.893384852707846, 0.10590276369485103, 0.9963117189271697, 0.9802096090401946, 0.5166761587943419, 0.46563241094418745, 0.017014582616718177, 0.7744596381414751, 0.22437615684472642, 0.9868746870646555, 0.9865995836895103, 0.17144353084889388, 0.8206805083258527, 0.005621099372094882, 0.9952026688913914, 0.9144001973823147, 0.7999259381769855, 0.09755194368012018, 0.0934444934199046, 0.008728331802958122, 0.1003575780050032, 0.2523276246982938, 0.0286735937157152, 0.6179159445736626, 0.9951426182214355, 0.9921059502280117, 0.22541597887032508, 0.25586432460008574, 0.14536629574208326, 0.1512595239478434, 0.22148716006648497, 0.001473307051440033, 0.7303083693106844, 0.1646773773935857, 0.0071598859736341615, 0.09546514631512215, 0.9905533881693075, 0.5390642436787499, 0.016027678206503963, 0.4446790275737822, 0.8737825982828439, 0.12531656124685187, 0.059722021654628324, 0.6100177926151322, 0.330604048445264, 0.9991725049878135, 0.4190994779584748, 0.5802532057925074, 0.0004989279499505652, 0.13308024804125634, 0.22385412093359477, 0.005339639581902261, 0.40088371014896973, 0.23699784913520033, 0.9673653141451529, 0.9940276425146984, 0.9615386620723483, 0.006679671150207352, 0.03172843796348492, 0.9961340154563141, 0.9924654437136614, 0.0060516185592296426, 0.062154875137618214, 0.6711877984144164, 0.11518804505026174, 0.14637154895889615, 0.0048790516319632046, 0.00021213267965057412, 0.9918892777270018, 0.20019993084622334, 0.15501591867606876, 0.006951386487716088, 0.6374421409235653, 0.9760076665721341, 0.23846284247963426, 0.019409766248342324, 0.7403439411867715, 0.25476846886692117, 0.7355887294741452, 0.008099575599815414, 0.0007363250545286739, 0.9893022845302729, 0.29980822041105804, 0.011133461765927884, 0.030219396221804255, 0.28867475864513015, 0.3697899800826047, 0.006555676650246049, 0.19994813783250448, 0.002979853022839113, 0.21723128536497135, 0.5730257362919614, 0.7526603588891762, 0.06757050603493851, 0.044108524772807085, 0.039416128520380796, 0.09478640429901097, 0.3712290611154193, 0.17390271505406832, 0.19963321881206825, 0.08872587502758589, 0.038861933262082614, 0.1275878082896685, 0.052085683045911574, 0.3801341078438459, 0.005482703478517008, 0.14574853413724378, 0.4162285724107495, 0.14331909704500678, 0.3518860987973456, 0.34019427772262134, 0.0844828361528461, 0.0799569699303722, 0.9804572742422644, 0.13504953948798196, 0.2439432393122836, 0.2228584297874801, 0.2789066576382236, 0.06805856239018854, 0.051244094034965486, 0.9954624556249494, 0.9734258812263901, 0.015700417439135323, 0.9892741455600182, 0.007826198529480735, 0.014674122242776377, 0.660335500924937, 0.28272142187749155, 0.0009782748161850918, 0.03423961856647821, 0.9782975875400937, 0.34662016308348065, 0.005659104703403766, 0.004244328527552824, 0.6423083838363274, 0.9757434611644132, 0.1582816720937902, 0.8331771350492568, 0.006595069670574593, 0.9836476695944117, 0.9438094863645167, 0.0010148489100693728, 0.05530926559878081, 0.9702298440700051, 0.24623936895398107, 0.3213336445924292, 0.4034134342437562, 0.028815245303125445, 0.9880362866153872, 0.4398882705402109, 0.5425997024698898, 0.01629215816815596, 0.001416709405926605, 0.3827150485070121, 0.002046604537470653, 0.6160279657786666, 0.08529020525886148, 0.9126051962698178, 0.05442667418361398, 0.8798978993017593, 0.06349778654754965, 0.9905252761991958, 0.3496280277158234, 0.16886059542931411, 0.47302615514493757, 0.007577078000033325, 0.9880510011013183, 0.006397427943803446, 0.6045569406894257, 0.09276270518514997, 0.2955611710037192, 0.0006397427943803446, 0.010998231731178134, 0.3171156815823029, 0.6718086549127977, 0.9729895864215568, 0.3800105913287673, 0.05911275865114158, 0.43161696792897025, 0.10508934871314059, 0.00281489326910198, 0.021580848396448513, 0.9285164905696455, 0.9968027709201267, 0.9960177338681139, 0.15877769918186327, 0.029770818596599365, 0.05954163719319873, 0.01984721239773291, 0.7310389899831622, 0.9439896245377379, 0.05696489113589798, 0.03666772476604708, 0.9533608439172241, 0.9674035865831131, 0.9959569375282741, 0.9922116115597279, 0.9955601376950365, 0.9964699606404144, 0.9458269236478805, 0.05456693790276233, 0.9975131452891005, 0.003027199995061181, 0.14984639975552846, 0.3632639994073417, 0.0035317333275713776, 0.47981119921719717, 0.6898225672322432, 0.3097867622461994, 0.008695514815596437, 0.8514358256938178, 0.015217150927293767, 0.12463571235688227, 0.999129614355981, 0.04161109882516169, 0.11504244969309407, 0.8371173998944292, 0.004895423391195492, 0.06324421552735396, 0.8879487860040496, 0.04806560380078901, 0.9974525290870682, 0.9781207477553374, 0.013139131641818345, 0.9722957414945576, 0.5882602410078361, 0.015989906407938324, 0.07658323595380986, 0.2676205388275993, 0.05133601530969672, 0.992528330952299, 0.9963340907349536, 0.006980757389400917, 0.9842867919055293, 0.9988732607688644, 0.9946151133991983, 0.36776352154418535, 0.2855575579048969, 0.01730651866090284, 0.05506619573923631, 0.06765275476534748, 0.20689156399170214, 0.09630161809451035, 0.2644701153640284, 0.6381778870740686, 0.9854020934211674, 0.6488586724884158, 0.0606032384017823, 0.22463600367593972, 0.042018245291902394, 0.004848259072142584, 0.019393036288570337, 0.9957300341423152, 0.13098082121221802, 0.6600744016352567, 0.20853525482471555, 0.9931608842904205, 0.0010040503948955761, 0.4066404099327083, 0.5913856825934943, 0.9875087377216957, 0.9827522188352743, 0.15502887462438383, 0.3522754338563008, 0.49277035148464865, 0.967658823235475, 0.9946221010646233, 0.9565820755250949, 0.9767078129701751, 0.9844473569128931, 0.9945216145239191, 0.00846669731060254, 0.922870006855677, 0.05926688117421779, 0.9901931254922897, 0.9732558142679585, 0.997565049334637, 0.8498027480206489, 0.022416859060496733, 0.127368517389186, 0.9852562731038196, 0.043599383617598624, 0.8595307056040872, 0.09342725060913991, 0.23624400965597545, 0.7630681511888007, 0.9967878813412496, 0.9573732574712654, 0.969143529535353, 0.9510131712160278, 0.04798690313475369, 0.9904013003225358, 0.05067183001165821, 0.9222273062121794, 0.027869506506412015, 0.975095006257394, 0.02321654776803319, 0.8909834198064043, 0.1012481158870914, 0.80023753598821, 0.08923283635424088, 0.07907108986550171, 0.03143790319953682, 0.07498021097478988, 0.5248614768235292, 0.11866433389053703, 0.1470264136940445, 0.08802024766605769, 0.046618131171282405, 0.014465900416391494, 0.9845321636332329, 0.9938184547437676, 0.924095018477712, 0.054358530498688946], \"Term\": [\").\", \"accommod\", \"accommod\", \"accommod\", \"achiev\", \"action\", \"activ\", \"activ\", \"activ\", \"activ\", \"activ\", \"afe\", \"african\", \"age\", \"agenc\", \"agre\", \"agre\", \"agre\", \"aircraft\", \"america\", \"anecdot\", \"anecdot\", \"announc\", \"announc\", \"announc\", \"appear\", \"appear\", \"appear\", \"appear\", \"appear\", \"appear\", \"appropri\", \"asia\", \"asian\", \"ask\", \"assembl\", \"assess\", \"asset\", \"asset\", \"asset\", \"assum\", \"assum\", \"auction\", \"author\", \"automak\", \"automot\", \"back\", \"back\", \"back\", \"back\", \"back\", \"back\", \"bank\", \"bank\", \"bank\", \"bank\", \"base\", \"base\", \"base\", \"base\", \"bid\", \"billion\", \"billion\", \"blue\", \"bond\", \"bond\", \"brazil\", \"busi\", \"busi\", \"busi\", \"busi\", \"busi\", \"busi\", \"c\", \"calcul\", \"canada\", \"capit\", \"capit\", \"capit\", \"capit\", \"card\", \"cautiou\", \"chang\", \"chang\", \"chang\", \"chang\", \"chang\", \"chang\", \"china\", \"chines\", \"chip\", \"claim\", \"collater\", \"commerci\", \"commerci\", \"commerci\", \"commerci\", \"committe\", \"committe\", \"compens\", \"compens\", \"compens\", \"compens\", \"comput\", \"condit\", \"condit\", \"condit\", \"condit\", \"condit\", \"condit\", \"consid\", \"construct\", \"construct\", \"construct\", \"consum\", \"consum\", \"consum\", \"consum\", \"consumpt\", \"consumpt\", \"contact\", \"continu\", \"continu\", \"continu\", \"continu\", \"continu\", \"continu\", \"core\", \"corpor\", \"corpor\", \"corpor\", \"could\", \"could\", \"counterbalanc\", \"cp\", \"cpi\", \"cre\", \"cre\", \"cre\", \"credit\", \"credit\", \"credit\", \"credit\", \"credit\", \"currenc\", \"current\", \"current\", \"current\", \"current\", \"cyclic\", \"dalla\", \"day\", \"day\", \"day\", \"dealer\", \"debt\", \"debt\", \"decid\", \"decis\", \"declin\", \"declin\", \"declin\", \"declin\", \"declin\", \"declin\", \"default\", \"defens\", \"deficit\", \"deficit\", \"demand\", \"demand\", \"demand\", \"demand\", \"demand\", \"demand\", \"demograph\", \"deposit\", \"deposit\", \"desk\", \"develop\", \"develop\", \"develop\", \"diffus\", \"dispos\", \"distress\", \"district\", \"dollar\", \"dollar\", \"dollar\", \"dollar\", \"downsid\", \"downturn\", \"downturn\", \"drill\", \"e\", \"ecb\", \"econom\", \"econom\", \"econom\", \"econom\", \"economi\", \"economi\", \"economi\", \"economi\", \"eme\", \"emerg\", \"emerg\", \"emerg\", \"emphas\", \"employ\", \"employ\", \"employ\", \"employ\", \"employ\", \"end\", \"end\", \"end\", \"end\", \"end\", \"end\", \"energi\", \"energi\", \"energi\", \"england\", \"equip\", \"equiti\", \"equiti\", \"euro\", \"evolv\", \"expect\", \"expect\", \"expect\", \"expect\", \"expenditur\", \"expenditur\", \"export\", \"export\", \"export\", \"facil\", \"facil\", \"factori\", \"famili\", \"feder\", \"feder\", \"feder\", \"feder\", \"financ\", \"financ\", \"financ\", \"financ\", \"financi\", \"financi\", \"financi\", \"financi\", \"financi\", \"find\", \"first\", \"first\", \"first\", \"first\", \"first\", \"first\", \"food\", \"forc\", \"forecast\", \"forecast\", \"foreclosur\", \"foreign\", \"foreign\", \"foreign\", \"foster\", \"four\", \"four\", \"fourth\", \"fourth\", \"fourth\", \"function\", \"function\", \"fund\", \"fund\", \"fund\", \"ga\", \"gain\", \"gain\", \"gain\", \"gain\", \"gain\", \"gasolin\", \"gdp\", \"gdp\", \"german\", \"goal\", \"good\", \"good\", \"good\", \"good\", \"govern\", \"govern\", \"govern\", \"govern\", \"govern\", \"grade\", \"growth\", \"growth\", \"growth\", \"growth\", \"growth\", \"guidanc\", \"half\", \"half\", \"half\", \"half\", \"headlin\", \"headlin\", \"hire\", \"hire\", \"hispan\", \"hold\", \"hold\", \"hold\", \"hold\", \"hold\", \"hold\", \"home\", \"home\", \"home\", \"homebuy\", \"hospit\", \"hourli\", \"hous\", \"hous\", \"hous\", \"household\", \"household\", \"household\", \"household\", \"household\", \"implic\", \"import\", \"import\", \"import\", \"import\", \"improv\", \"improv\", \"improv\", \"improv\", \"improv\", \"improv\", \"increas\", \"increas\", \"increas\", \"increas\", \"increas\", \"increas\", \"index\", \"index\", \"index\", \"index\", \"indic\", \"indic\", \"indic\", \"indic\", \"indic\", \"indic\", \"industri\", \"industri\", \"industri\", \"inflat\", \"inflat\", \"institut\", \"institut\", \"insur\", \"insur\", \"insur\", \"intellectu\", \"interbank\", \"intermeet\", \"intermeet\", \"intermeet\", \"intermeet\", \"intermeet\", \"inventori\", \"inventori\", \"inventori\", \"ip\", \"issuanc\", \"issuanc\", \"issuanc\", \"item\", \"item\", \"japan\", \"job\", \"job\", \"judg\", \"judg\", \"judg\", \"juli\", \"juli\", \"juli\", \"juli\", \"kingdom\", \"labor\", \"labor\", \"labor\", \"languag\", \"layoff\", \"lend\", \"lend\", \"level\", \"level\", \"level\", \"level\", \"level\", \"level\", \"like\", \"like\", \"like\", \"like\", \"like\", \"liquid\", \"liquid\", \"liquid\", \"liquid\", \"liquid\", \"littl\", \"littl\", \"littl\", \"littl\", \"littl\", \"littl\", \"loan\", \"loan\", \"local\", \"local\", \"longer\", \"longer\", \"longer\", \"longer\", \"loss\", \"loss\", \"m2\", \"maintain\", \"maintain\", \"maintain\", \"maintain\", \"mandat\", \"mani\", \"mani\", \"mani\", \"mani\", \"mani\", \"manufactur\", \"manufactur\", \"market\", \"market\", \"market\", \"market\", \"market\", \"matur\", \"matur\", \"maximum\", \"mb\", \"measur\", \"measur\", \"measur\", \"measur\", \"measur\", \"median\", \"meet\", \"meet\", \"meet\", \"meet\", \"meet\", \"member\", \"mexico\", \"michigan\", \"mine\", \"mmf\", \"monetari\", \"monetari\", \"monetari\", \"money\", \"money\", \"monitor\", \"month\", \"month\", \"month\", \"month\", \"month\", \"month\", \"mortgag\", \"mortgag\", \"mortgag\", \"motor\", \"multifamili\", \"municip\", \"narrow\", \"narrow\", \"narrow\", \"narrow\", \"narrow\", \"net\", \"net\", \"net\", \"net\", \"net\", \"nomin\", \"nomin\", \"nomin\", \"nomin\", \"nondefens\", \"nonfinanci\", \"nonfinanci\", \"nonresidenti\", \"nonsupervisori\", \"note\", \"note\", \"note\", \"object\", \"object\", \"occup\", \"oi\", \"order\", \"order\", \"order\", \"outlay\", \"outlet\", \"outlook\", \"outlook\", \"outlook\", \"outlook\", \"output\", \"output\", \"output\", \"output\", \"overnight\", \"p\", \"pace\", \"pace\", \"pace\", \"pace\", \"pace\", \"pace\", \"pandem\", \"pandem\", \"pandem\", \"pandem\", \"paper\", \"particip\", \"particip\", \"particip\", \"path\", \"path\", \"payrol\", \"payrol\", \"payrol\", \"pce\", \"percent\", \"percent\", \"percent\", \"period\", \"period\", \"period\", \"period\", \"period\", \"perman\", \"permit\", \"polici\", \"polici\", \"polici\", \"popul\", \"pose\", \"pose\", \"price\", \"price\", \"price\", \"price\", \"price\", \"price\", \"primari\", \"product\", \"product\", \"product\", \"product\", \"profession\", \"program\", \"program\", \"program\", \"project\", \"project\", \"project\", \"project\", \"promot\", \"purchas\", \"purchas\", \"purchas\", \"purchas\", \"purchas\", \"quarter\", \"quarter\", \"quarter\", \"quarter\", \"quarter\", \"rang\", \"rang\", \"rang\", \"rang\", \"rang\", \"rate\", \"rate\", \"rate\", \"rate\", \"rate\", \"rate\", \"real\", \"real\", \"real\", \"real\", \"real\", \"recent\", \"recent\", \"recent\", \"recent\", \"recent\", \"reinvest\", \"remain\", \"remain\", \"remain\", \"remain\", \"remain\", \"remain\", \"remov\", \"reopen\", \"reopen\", \"repo\", \"report\", \"report\", \"report\", \"report\", \"report\", \"report\", \"repurchas\", \"reserv\", \"reserv\", \"reserv\", \"reserv\", \"reuter\", \"revis\", \"revis\", \"revis\", \"rig\", \"risk\", \"risk\", \"risk\", \"roll\", \"rose\", \"rose\", \"rose\", \"rose\", \"rrp\", \"run\", \"run\", \"run\", \"run\", \"sale\", \"sale\", \"sale\", \"save\", \"save\", \"schedul\", \"schedul\", \"schedul\", \"score\", \"second\", \"second\", \"second\", \"second\", \"secondari\", \"sector\", \"sector\", \"sector\", \"sector\", \"sector\", \"secur\", \"secur\", \"secur\", \"semiconductor\", \"sever\", \"sever\", \"sever\", \"sever\", \"sever\", \"sever\", \"shelter\", \"shipment\", \"shock\", \"short\", \"short\", \"short\", \"short\", \"short\", \"shortag\", \"shortag\", \"shutdown\", \"shutdown\", \"sideway\", \"singl\", \"skill\", \"sloo\", \"softwar\", \"sovereign\", \"sovereign\", \"specul\", \"spend\", \"spend\", \"spend\", \"spend\", \"spend\", \"spread\", \"spread\", \"staff\", \"staff\", \"staff\", \"staff\", \"stanc\", \"standard\", \"standard\", \"standard\", \"standard\", \"start\", \"start\", \"start\", \"statement\", \"student\", \"subprim\", \"subprim\", \"survey\", \"survey\", \"survey\", \"survey\", \"survey\", \"swap\", \"symmetr\", \"system\", \"system\", \"target\", \"tech\", \"term\", \"term\", \"term\", \"term\", \"term\", \"term\", \"third\", \"third\", \"third\", \"thomson\", \"time\", \"time\", \"time\", \"time\", \"time\", \"time\", \"tool\", \"trade\", \"trade\", \"trade\", \"transport\", \"treasuri\", \"treasuri\", \"treasuri\", \"twelv\", \"undertaken\", \"unemploy\", \"unemploy\", \"unemploy\", \"unfil\", \"univers\", \"unrevis\", \"unsecur\", \"unsold\", \"upsid\", \"vaccin\", \"vaccin\", \"vaccin\", \"valuat\", \"variant\", \"vehicl\", \"view\", \"view\", \"view\", \"vix\", \"vulner\", \"vulner\", \"vulner\", \"wage\", \"wage\", \"warrant\", \"weekli\", \"white\", \"widen\", \"widen\", \"work\", \"worker\", \"worker\", \"worker\", \"workweek\", \"workweek\", \"worth\", \"worth\", \"would\", \"would\", \"would\", \"would\", \"year\", \"year\", \"year\", \"year\", \"year\", \"year\", \"yield\", \"yield\", \"\\u2011\", \"\\u2013\", \"\\u2013\"]}, \"R\": 30, \"lambda.step\": 0.01, \"plot.opts\": {\"xlab\": \"PC1\", \"ylab\": \"PC2\"}, \"topic.order\": [1, 6, 4, 5, 2, 3]};\n",
       "\n",
       "function LDAvis_load_lib(url, callback){\n",
       "  var s = document.createElement('script');\n",
       "  s.src = url;\n",
       "  s.async = true;\n",
       "  s.onreadystatechange = s.onload = callback;\n",
       "  s.onerror = function(){console.warn(\"failed to load library \" + url);};\n",
       "  document.getElementsByTagName(\"head\")[0].appendChild(s);\n",
       "}\n",
       "\n",
       "if(typeof(LDAvis) !== \"undefined\"){\n",
       "   // already loaded: just create the visualization\n",
       "   !function(LDAvis){\n",
       "       new LDAvis(\"#\" + \"ldavis_el6023755136451844049382549\", ldavis_el6023755136451844049382549_data);\n",
       "   }(LDAvis);\n",
       "}else if(typeof define === \"function\" && define.amd){\n",
       "   // require.js is available: use it to load d3/LDAvis\n",
       "   require.config({paths: {d3: \"https://d3js.org/d3.v5\"}});\n",
       "   require([\"d3\"], function(d3){\n",
       "      window.d3 = d3;\n",
       "      LDAvis_load_lib(\"https://cdn.jsdelivr.net/gh/bmabey/pyLDAvis@3.3.1/pyLDAvis/js/ldavis.v3.0.0.js\", function(){\n",
       "        new LDAvis(\"#\" + \"ldavis_el6023755136451844049382549\", ldavis_el6023755136451844049382549_data);\n",
       "      });\n",
       "    });\n",
       "}else{\n",
       "    // require.js not available: dynamically load d3 & LDAvis\n",
       "    LDAvis_load_lib(\"https://d3js.org/d3.v5.js\", function(){\n",
       "         LDAvis_load_lib(\"https://cdn.jsdelivr.net/gh/bmabey/pyLDAvis@3.3.1/pyLDAvis/js/ldavis.v3.0.0.js\", function(){\n",
       "                 new LDAvis(\"#\" + \"ldavis_el6023755136451844049382549\", ldavis_el6023755136451844049382549_data);\n",
       "            })\n",
       "         });\n",
       "}\n",
       "</script>"
      ],
      "text/plain": [
       "PreparedData(topic_coordinates=              x         y  topics  cluster       Freq\n",
       "topic                                                \n",
       "0     -0.026697 -0.249434       1        1  27.548472\n",
       "5      0.121069 -0.019016       2        1  18.968352\n",
       "3      0.086028 -0.092860       3        1  17.691395\n",
       "4     -0.021287  0.107802       4        1  17.151958\n",
       "1      0.157253  0.181850       5        1  11.880203\n",
       "2     -0.316365  0.071658       6        1   6.759620, topic_info=          Term         Freq        Total Category  logprob  loglift\n",
       "1559    inflat  6270.000000  6270.000000  Default  30.0000  30.0000\n",
       "2208  particip  5615.000000  5615.000000  Default  29.0000  29.0000\n",
       "2453   quarter  3355.000000  3355.000000  Default  28.0000  28.0000\n",
       "1839    market  4919.000000  4919.000000  Default  27.0000  27.0000\n",
       "1312      fund  1887.000000  1887.000000  Default  26.0000  26.0000\n",
       "...        ...          ...          ...      ...      ...      ...\n",
       "290       back   215.919989   631.038439   Topic6  -4.9139   1.6217\n",
       "604     condit   252.372251  2657.041737   Topic6  -4.7579   0.3401\n",
       "1740     level   225.724375  2292.672083   Topic6  -4.8695   0.3760\n",
       "1537   increas   202.327275  4182.649830   Topic6  -4.9790  -0.3346\n",
       "2596    remain   191.858678  3746.773235   Topic6  -5.0321  -0.2777\n",
       "\n",
       "[433 rows x 6 columns], token_table=      Topic      Freq      Term\n",
       "term                           \n",
       "5         4  0.983004        ).\n",
       "64        1  0.724647  accommod\n",
       "64        2  0.012765  accommod\n",
       "64        4  0.262169  accommod\n",
       "73        1  0.994373    achiev\n",
       "...     ...       ...       ...\n",
       "3576      1  0.014466     yield\n",
       "3576      4  0.984532     yield\n",
       "3594      2  0.993818         ‑\n",
       "3597      2  0.924095         –\n",
       "3597      6  0.054359         –\n",
       "\n",
       "[825 rows x 3 columns], R=30, lambda_step=0.01, plot_opts={'xlab': 'PC1', 'ylab': 'PC2'}, topic_order=[1, 6, 4, 5, 2, 3])"
      ]
     },
     "execution_count": 13,
     "metadata": {},
     "output_type": "execute_result"
    }
   ],
   "source": [
    "sklearnvis.prepare(lda_model,bag_of_words,vectorizer)"
   ]
  },
  {
   "cell_type": "markdown",
   "metadata": {},
   "source": [
    "# Topic proportions overtime"
   ]
  },
  {
   "cell_type": "code",
   "execution_count": 14,
   "metadata": {},
   "outputs": [],
   "source": [
    "categories = pd.Series([p.category_id for p in paras])\n"
   ]
  },
  {
   "cell_type": "code",
   "execution_count": 15,
   "metadata": {},
   "outputs": [],
   "source": [
    "count = 0\n",
    "year_prop = {}\n",
    "for idx,year in categories[~(categories==categories.shift(-1))].iteritems():\n",
    "    c = lda_transform[count:count+int(idx)]\n",
    "    year_prop[int(year)] = 100*(c.sum(axis=0)/c.sum())\n",
    "    count = idx\n",
    "\n"
   ]
  },
  {
   "cell_type": "code",
   "execution_count": 16,
   "metadata": {},
   "outputs": [
    {
     "data": {
      "text/plain": [
       "<AxesSubplot:>"
      ]
     },
     "execution_count": 16,
     "metadata": {},
     "output_type": "execute_result"
    },
    {
     "data": {
      "image/png": "[encoded data removed]",
      "text/plain": [
       "<Figure size 1080x360 with 1 Axes>"
      ]
     },
     "metadata": {
      "needs_background": "light"
     },
     "output_type": "display_data"
    }
   ],
   "source": [
    "yearly_prop = pd.DataFrame(year_prop).T.sort_index()\n",
    "yearly_prop.columns = yearly_prop.columns.map(topic_dict)\n",
    "yearly_prop.plot(kind='area',stacked=True,figsize=(15,5))\n"
   ]
  },
  {
   "cell_type": "markdown",
   "metadata": {},
   "source": [
    "## <a name=\"finbert\"></a>FinBERT\n",
    "FinBERT is a pre-trained transformer model, specifically trained for the finance domain. https://github.com/ProsusAI/finBERT. The sentiment scoring component derives from Financial PhraseBank dataset. \n",
    "Here we will score each old text instead of our lemmatised 'new text'. "
   ]
  },
  {
   "cell_type": "code",
   "execution_count": 17,
   "metadata": {},
   "outputs": [],
   "source": [
    "#Load tokenizer and model\n",
    "transformer_tokenizer = AutoTokenizer.from_pretrained(\"ProsusAI/finbert\")\n",
    "transformer_model = AutoModelForSequenceClassification.from_pretrained(\"ProsusAI/finbert\",output_hidden_states=True,output_attentions=False)\n",
    " "
   ]
  },
  {
   "cell_type": "code",
   "execution_count": 18,
   "metadata": {},
   "outputs": [],
   "source": [
    "text = ['Participants','remarked','that','inflation','readings','had','been','higher','and','were','more','persistent','and','widespread','than','previously','anticipated','.']"
   ]
  },
  {
   "cell_type": "code",
   "execution_count": 19,
   "metadata": {},
   "outputs": [
    {
     "name": "stdout",
     "output_type": "stream",
     "text": [
      "['[CLS]', 'and', 'the', 'conduct', 'of', 'monetary', 'policy', 'over', 'the', 'inter', '##me', '##eti', '##ng', 'period', '.', '[SEP]']\n"
     ]
    }
   ],
   "source": [
    "print(transformer_tokenizer.convert_ids_to_tokens(transformer_tokenizer(paras[0].tokens,padding=True,is_split_into_words=True)['input_ids']))"
   ]
  },
  {
   "cell_type": "code",
   "execution_count": 20,
   "metadata": {},
   "outputs": [
    {
     "name": "stderr",
     "output_type": "stream",
     "text": [
      "Token indices sequence length is longer than the specified maximum sequence length for this model (545 > 512). Running this sequence through the model will result in indexing errors\n"
     ]
    }
   ],
   "source": [
    "#How many our of documents get truncated?\n",
    "plengths = []\n",
    "for p in paras:\n",
    "    plengths.append(len(transformer_tokenizer.encode(p.tokens,padding=True,is_split_into_words=True)))"
   ]
  },
  {
   "cell_type": "code",
   "execution_count": 21,
   "metadata": {},
   "outputs": [
    {
     "data": {
      "text/plain": [
       "<matplotlib.lines.Line2D at 0x149180d90>"
      ]
     },
     "execution_count": 21,
     "metadata": {},
     "output_type": "execute_result"
    },
    {
     "data": {
      "image/png": "[encoded data removed]",
      "text/plain": [
       "<Figure size 504x504 with 1 Axes>"
      ]
     },
     "metadata": {
      "needs_background": "light"
     },
     "output_type": "display_data"
    }
   ],
   "source": [
    "\n",
    "sns.displot(plengths,height=7).set(title='Document token size')\n",
    "plt.axvline(transformer_tokenizer.model_max_length)"
   ]
  },
  {
   "cell_type": "markdown",
   "metadata": {},
   "source": [
    "Most documents have tokens less than the maximum model size, which means we don't have to worry about truncation, in fact we could probably truncate our tokens to 350"
   ]
  },
  {
   "cell_type": "markdown",
   "metadata": {},
   "source": [
    "## Extracting features from latest transcript"
   ]
  },
  {
   "cell_type": "code",
   "execution_count": 22,
   "metadata": {},
   "outputs": [],
   "source": [
    "file_id = '20211215'\n",
    "latest_minutes = fed_mins.get_paras(file_id = file_id,flatten=True,stem=True)\n",
    "tokenizer_settings = dict(is_split_into_words=True,max_length=350,padding='max_length',truncation=True,return_tensors=\"pt\")\n",
    "\n",
    "document_feat = FeatureProcessor(latest_minutes,\n",
    "                                transformer_model=transformer_model,\n",
    "                                transformer_tokenizer=transformer_tokenizer,\n",
    "                                tokenizer_settings=tokenizer_settings,\n",
    "                                lda_model=lda_model,\n",
    "                                lda_vec=vectorizer,\n",
    "                                lda_topic_dict=topic_dict,batch_size=30)"
   ]
  },
  {
   "cell_type": "code",
   "execution_count": 23,
   "metadata": {},
   "outputs": [],
   "source": [
    "latest_minutes = document_feat.get_features(sentiment=True,embedding=True,topic=True)\n"
   ]
  },
  {
   "cell_type": "code",
   "execution_count": 24,
   "metadata": {},
   "outputs": [],
   "source": [
    "def corpus_stats(corpus):\n",
    "    ids = [(n,f.category_id,f.file_id) for n,f in enumerate(corpus)]\n",
    "    df_ids = pd.DataFrame(ids,columns=['idx','category_id','file_id'])\n",
    "    start_idx = df_ids.drop_duplicates(['category_id','file_id'],keep='first')\n",
    "    end_idx = df_ids.drop_duplicates(['category_id','file_id'],keep='last')\n",
    "\n",
    "    idx = start_idx.merge(end_idx,on=['category_id','file_id'],suffixes=('_start','_end'))\n",
    "\n",
    "    stats =[]\n",
    "    corpus_sent = corpus.extract_features('sentiment')\n",
    "    corpus_topic = corpus.extract_features('topics')\n",
    "\n",
    "    for s,cat_id,file_id,e in idx.values:\n",
    "        net_tone = [s['logits'][0] - s['logits'][1] for s in corpus_sent[s:e]]\n",
    "        topic_dist = [s['topic_dist'] for s in corpus_topic[s:e]]\n",
    "        topic_sentiment = np.asarray(topic_dist) * np.asarray(net_tone).reshape(-1,1)\n",
    "        topic_mean_sent = topic_sentiment.mean(axis=0).tolist()\n",
    "\n",
    "        stats.append((cat_id,file_id,*topic_mean_sent))\n",
    "    return stats\n",
    "\n",
    "\n",
    "latest_stats = corpus_stats(latest_minutes)\n",
    "latest_stats = pd.DataFrame(latest_stats,columns = ['category_id','file_id']+list(topic_dict.values()))\n",
    "latest_stats['month'] = pd.to_datetime(latest_stats['file_id']).dt.to_period('M')\n",
    "latest_stats.set_index(['month'],inplace=True)"
   ]
  },
  {
   "cell_type": "code",
   "execution_count": 25,
   "metadata": {},
   "outputs": [
    {
     "data": {
      "text/plain": [
       "<AxesSubplot:title={'center':'Average net-tone per topic for file:20211215'}, xlabel='month'>"
      ]
     },
     "execution_count": 25,
     "metadata": {},
     "output_type": "execute_result"
    },
    {
     "data": {
      "image/png": "[encoded data removed]",
      "text/plain": [
       "<Figure size 720x360 with 1 Axes>"
      ]
     },
     "metadata": {
      "needs_background": "light"
     },
     "output_type": "display_data"
    }
   ],
   "source": [
    "latest_stats.plot(kind='bar',title='Average net-tone per topic for file:{}'.format(file_id),figsize=(10,5))"
   ]
  },
  {
   "cell_type": "markdown",
   "metadata": {},
   "source": [
    "without context from previous transcript, this doesn't tell us much "
   ]
  },
  {
   "cell_type": "code",
   "execution_count": 26,
   "metadata": {},
   "outputs": [],
   "source": [
    "last_year_minutes = fed_mins.get_paras(category_id = '2021',flatten=True,stem=True)\n",
    "\n",
    "document_feat = FeatureProcessor(last_year_minutes,\n",
    "                                transformer_model=transformer_model,\n",
    "                                transformer_tokenizer=transformer_tokenizer,\n",
    "                                tokenizer_settings=tokenizer_settings,\n",
    "                                lda_model=lda_model,\n",
    "                                lda_vec=vectorizer,\n",
    "                                lda_topic_dict=topic_dict,batch_size=30)"
   ]
  },
  {
   "cell_type": "code",
   "execution_count": 27,
   "metadata": {},
   "outputs": [],
   "source": [
    "last_year_minutes = document_feat.get_features()"
   ]
  },
  {
   "cell_type": "code",
   "execution_count": 28,
   "metadata": {},
   "outputs": [],
   "source": [
    "last_year_stats = pd.DataFrame(corpus_stats(last_year_minutes),columns = ['category_id','file_id']+list(topic_dict.values()))\n",
    "\n",
    "last_year_stats['month'] = pd.to_datetime(last_year_stats['file_id']).dt.to_period('M')\n",
    "last_year_stats.set_index(['month'],inplace=True)"
   ]
  },
  {
   "cell_type": "code",
   "execution_count": 29,
   "metadata": {},
   "outputs": [
    {
     "data": {
      "text/plain": [
       "<AxesSubplot:title={'center':'Topic Sentiment across time'}, xlabel='month'>"
      ]
     },
     "execution_count": 29,
     "metadata": {},
     "output_type": "execute_result"
    },
    {
     "data": {
      "image/png": "[encoded data removed]",
      "text/plain": [
       "<Figure size 720x360 with 1 Axes>"
      ]
     },
     "metadata": {
      "needs_background": "light"
     },
     "output_type": "display_data"
    }
   ],
   "source": [
    "last_year_stats[[i for i in last_year_stats.columns if i not in ['category_id','file_id']]].plot(kind='line',figsize=(10,5),title='Topic Sentiment across time')"
   ]
  },
  {
   "cell_type": "code",
   "execution_count": 30,
   "metadata": {},
   "outputs": [
    {
     "data": {
      "text/plain": [
       "<AxesSubplot:title={'center':'latest transcript relative to past year'}, xlabel='month'>"
      ]
     },
     "execution_count": 30,
     "metadata": {},
     "output_type": "execute_result"
    },
    {
     "data": {
      "image/png": "[encoded data removed]",
      "text/plain": [
       "<Figure size 720x360 with 1 Axes>"
      ]
     },
     "metadata": {
      "needs_background": "light"
     },
     "output_type": "display_data"
    }
   ],
   "source": [
    "relative_stats = pd.DataFrame(last_year_stats[topic_dict.values()].values - latest_stats[topic_dict.values()].values,columns=topic_dict.values(),index=last_year_stats.index)\n",
    "relative_stats.plot(kind='bar',title='latest transcript relative to past year',figsize=(10,5))"
   ]
  },
  {
   "cell_type": "markdown",
   "metadata": {},
   "source": [
    "## What is the relationship between document embeddings and topic distribution? \n",
    "Here we plot cosine simlarity of document embeddings vs KL- divergence"
   ]
  },
  {
   "cell_type": "code",
   "execution_count": 31,
   "metadata": {},
   "outputs": [],
   "source": [
    "doc_embeddings = np.asarray(last_year_minutes.extract_features('embedding'))"
   ]
  },
  {
   "cell_type": "code",
   "execution_count": 32,
   "metadata": {},
   "outputs": [],
   "source": [
    "cos = cosine_similarity(doc_embeddings,doc_embeddings)\n",
    "cos_flat = cos[np.triu_indices(cos.shape[0],1)]"
   ]
  },
  {
   "cell_type": "code",
   "execution_count": 33,
   "metadata": {},
   "outputs": [],
   "source": [
    "topic_dist = [i['topic_dist'] for i in last_year_minutes.extract_features('topics')]\n",
    "\n",
    "tri = np.triu_indices(cos.shape[0],1)\n",
    "jen_lst = []\n",
    "for i,j in zip(tri[0],tri[1]):\n",
    "    jen_lst.append(1-jensenshannon(topic_dist[i],topic_dist[j]))\n"
   ]
  },
  {
   "cell_type": "markdown",
   "metadata": {},
   "source": [
    "Jensen shannon allows us to compute a distance metric based on probability distributions"
   ]
  },
  {
   "cell_type": "code",
   "execution_count": 34,
   "metadata": {},
   "outputs": [],
   "source": [
    "df_embed_vs_topic = pd.DataFrame([cos_flat,jen_lst]).T\n",
    "df_embed_vs_topic.columns = ['embed_cosine_similarity','topic_jensenshannon_dist']\n"
   ]
  },
  {
   "cell_type": "code",
   "execution_count": 35,
   "metadata": {},
   "outputs": [
    {
     "data": {
      "text/html": [
       "<div>\n",
       "<style scoped>\n",
       "    .dataframe tbody tr th:only-of-type {\n",
       "        vertical-align: middle;\n",
       "    }\n",
       "\n",
       "    .dataframe tbody tr th {\n",
       "        vertical-align: top;\n",
       "    }\n",
       "\n",
       "    .dataframe thead th {\n",
       "        text-align: right;\n",
       "    }\n",
       "</style>\n",
       "<table border=\"1\" class=\"dataframe\">\n",
       "  <thead>\n",
       "    <tr style=\"text-align: right;\">\n",
       "      <th></th>\n",
       "      <th>embed_cosine_similarity</th>\n",
       "      <th>topic_jensenshannon_dist</th>\n",
       "    </tr>\n",
       "  </thead>\n",
       "  <tbody>\n",
       "    <tr>\n",
       "      <th>count</th>\n",
       "      <td>67161.000000</td>\n",
       "      <td>67161.000000</td>\n",
       "    </tr>\n",
       "    <tr>\n",
       "      <th>mean</th>\n",
       "      <td>0.778039</td>\n",
       "      <td>0.400860</td>\n",
       "    </tr>\n",
       "    <tr>\n",
       "      <th>std</th>\n",
       "      <td>0.085215</td>\n",
       "      <td>0.189431</td>\n",
       "    </tr>\n",
       "    <tr>\n",
       "      <th>min</th>\n",
       "      <td>0.206556</td>\n",
       "      <td>0.189638</td>\n",
       "    </tr>\n",
       "    <tr>\n",
       "      <th>25%</th>\n",
       "      <td>0.730725</td>\n",
       "      <td>0.237379</td>\n",
       "    </tr>\n",
       "    <tr>\n",
       "      <th>50%</th>\n",
       "      <td>0.787025</td>\n",
       "      <td>0.343117</td>\n",
       "    </tr>\n",
       "    <tr>\n",
       "      <th>75%</th>\n",
       "      <td>0.836475</td>\n",
       "      <td>0.515285</td>\n",
       "    </tr>\n",
       "    <tr>\n",
       "      <th>max</th>\n",
       "      <td>1.000000</td>\n",
       "      <td>1.000000</td>\n",
       "    </tr>\n",
       "  </tbody>\n",
       "</table>\n",
       "</div>"
      ],
      "text/plain": [
       "       embed_cosine_similarity  topic_jensenshannon_dist\n",
       "count             67161.000000              67161.000000\n",
       "mean                  0.778039                  0.400860\n",
       "std                   0.085215                  0.189431\n",
       "min                   0.206556                  0.189638\n",
       "25%                   0.730725                  0.237379\n",
       "50%                   0.787025                  0.343117\n",
       "75%                   0.836475                  0.515285\n",
       "max                   1.000000                  1.000000"
      ]
     },
     "execution_count": 35,
     "metadata": {},
     "output_type": "execute_result"
    }
   ],
   "source": [
    "df_embed_vs_topic.describe()"
   ]
  },
  {
   "cell_type": "code",
   "execution_count": 36,
   "metadata": {},
   "outputs": [
    {
     "data": {
      "text/plain": [
       "Text(0.5, 1.0, 'Document embedding cosine similarity vs Topic (1- Jensen shannon distance) ')"
      ]
     },
     "execution_count": 36,
     "metadata": {},
     "output_type": "execute_result"
    },
    {
     "data": {
      "image/png": "[encoded data removed]",
      "text/plain": [
       "<Figure size 1080x576 with 1 Axes>"
      ]
     },
     "metadata": {
      "needs_background": "light"
     },
     "output_type": "display_data"
    }
   ],
   "source": [
    "plt.figure(figsize=(15,8))\n",
    "ax = sns.histplot(df_embed_vs_topic,x='embed_cosine_similarity',y='topic_jensenshannon_dist')\n",
    "plt.title('Document embedding cosine similarity vs Topic (1- Jensen shannon distance) ')"
   ]
  },
  {
   "cell_type": "markdown",
   "metadata": {},
   "source": [
    "When embed_cosine_similarity = 1, we have documents that are very closely related. Likewise when topic (1-Jensen shannon distance) = 1, topic distributiions are indentical. A large proportion of closely related documents (as indicated by cosine) have not so closely related topic distributions."
   ]
  },
  {
   "cell_type": "code",
   "execution_count": 37,
   "metadata": {},
   "outputs": [
    {
     "data": {
      "text/html": [
       "<div>\n",
       "<style scoped>\n",
       "    .dataframe tbody tr th:only-of-type {\n",
       "        vertical-align: middle;\n",
       "    }\n",
       "\n",
       "    .dataframe tbody tr th {\n",
       "        vertical-align: top;\n",
       "    }\n",
       "\n",
       "    .dataframe thead th {\n",
       "        text-align: right;\n",
       "    }\n",
       "</style>\n",
       "<table border=\"1\" class=\"dataframe\">\n",
       "  <thead>\n",
       "    <tr style=\"text-align: right;\">\n",
       "      <th></th>\n",
       "      <th>embed_cosine_similarity</th>\n",
       "      <th>topic_jensenshannon_dist</th>\n",
       "    </tr>\n",
       "  </thead>\n",
       "  <tbody>\n",
       "    <tr>\n",
       "      <th>embed_cosine_similarity</th>\n",
       "      <td>1.000000</td>\n",
       "      <td>0.457876</td>\n",
       "    </tr>\n",
       "    <tr>\n",
       "      <th>topic_jensenshannon_dist</th>\n",
       "      <td>0.457876</td>\n",
       "      <td>1.000000</td>\n",
       "    </tr>\n",
       "  </tbody>\n",
       "</table>\n",
       "</div>"
      ],
      "text/plain": [
       "                          embed_cosine_similarity  topic_jensenshannon_dist\n",
       "embed_cosine_similarity                  1.000000                  0.457876\n",
       "topic_jensenshannon_dist                 0.457876                  1.000000"
      ]
     },
     "execution_count": 37,
     "metadata": {},
     "output_type": "execute_result"
    }
   ],
   "source": [
    "df_embed_vs_topic.corr()"
   ]
  },
  {
   "cell_type": "markdown",
   "metadata": {},
   "source": [
    "# Comparing against other corpus\n",
    "Here we try to find documents similar to corpus_a and compare topic distribution/sentiment. Our example comes from FOMC commitee member Jerome Powell"
   ]
  },
  {
   "cell_type": "code",
   "execution_count": 38,
   "metadata": {},
   "outputs": [],
   "source": [
    "\n",
    "base_text = \"Inflation risks are still to the upside in the views of most FOMC participants, and certainly in my view as well. There’s a risk that the high inflation we are seeing will be prolonged. There’s a risk that it will move even higher. So, we don’t think that’s the base case, but, you asked what the risks are, and we have to be in a position with our monetary policy to address all of the plausible outcomes\"\n",
    "base_text_2 = \"US labour costs have risen sharply, contributing to the rapid climb of inflation as the Federal Reserve prepares to act forcefully to temper demand in the world's largest economy\"\n",
    "\n",
    "\n",
    "#convert text into CorpusPreProcess format\n",
    "base_document = [('2022','20220128',base_text),('2022','2022029',base_text_2)]\n"
   ]
  },
  {
   "cell_type": "code",
   "execution_count": 39,
   "metadata": {},
   "outputs": [],
   "source": [
    "\n",
    "base_corpus = CorpusPreProcess(root=base_document,file_extension = file_extension,\n",
    "                            category_pattern=category_pattern,\n",
    "                            file_pattern=file_pattern,\n",
    "                            word_tokenizer = word_tokenizer,\n",
    "                            sent_tokenizer=sent_tokenizer,\n",
    "                            stemmer = stemmer,\n",
    "                            lemmatizer = lemmatizer,\n",
    "                            stop_words = stop_words\n",
    "                            )\n",
    "\n",
    "base_document = base_corpus.get_paras(flatten=True,stem=True)"
   ]
  },
  {
   "cell_type": "code",
   "execution_count": 40,
   "metadata": {},
   "outputs": [],
   "source": [
    "base_features = FeatureProcessor(base_document,\n",
    "                                transformer_model=transformer_model,\n",
    "                                transformer_tokenizer=transformer_tokenizer,\n",
    "                                tokenizer_settings=tokenizer_settings,\n",
    "                                lda_model=lda_model,\n",
    "                                lda_vec=vectorizer,\n",
    "                                lda_topic_dict=topic_dict,batch_size=30)"
   ]
  },
  {
   "cell_type": "code",
   "execution_count": 41,
   "metadata": {},
   "outputs": [],
   "source": [
    "base_document = base_features.get_features()"
   ]
  },
  {
   "cell_type": "code",
   "execution_count": 42,
   "metadata": {},
   "outputs": [
    {
     "data": {
      "text/plain": [
       "{'topic_dist': [0.8383592633875829,\n",
       "  0.00842358915194112,\n",
       "  0.008435876674884159,\n",
       "  0.12792577034731528,\n",
       "  0.008403857954972864,\n",
       "  0.008451642483303776],\n",
       " 'topic_pred': 'Outlook'}"
      ]
     },
     "execution_count": 42,
     "metadata": {},
     "output_type": "execute_result"
    }
   ],
   "source": [
    "base_document[0].features['topics']"
   ]
  },
  {
   "cell_type": "markdown",
   "metadata": {},
   "source": [
    "# Calculating Cosine Similarity against corpus"
   ]
  },
  {
   "cell_type": "code",
   "execution_count": 43,
   "metadata": {},
   "outputs": [],
   "source": [
    "\n",
    "base_closest =  find_closest(base_document,last_year_minutes)\n",
    "\n",
    "    "
   ]
  },
  {
   "cell_type": "code",
   "execution_count": 44,
   "metadata": {},
   "outputs": [
    {
     "data": {
      "text/html": [
       "<div>\n",
       "<style scoped>\n",
       "    .dataframe tbody tr th:only-of-type {\n",
       "        vertical-align: middle;\n",
       "    }\n",
       "\n",
       "    .dataframe tbody tr th {\n",
       "        vertical-align: top;\n",
       "    }\n",
       "\n",
       "    .dataframe thead th {\n",
       "        text-align: right;\n",
       "    }\n",
       "</style>\n",
       "<table border=\"1\" class=\"dataframe\">\n",
       "  <thead>\n",
       "    <tr style=\"text-align: right;\">\n",
       "      <th></th>\n",
       "      <th>raw_text</th>\n",
       "      <th>embed_cos_sim</th>\n",
       "      <th>topic_1-jensen_dist</th>\n",
       "      <th>net_tone</th>\n",
       "      <th>category_id</th>\n",
       "      <th>file_id</th>\n",
       "      <th>net_tone_diff</th>\n",
       "      <th>combined_score</th>\n",
       "    </tr>\n",
       "  </thead>\n",
       "  <tbody>\n",
       "    <tr>\n",
       "      <th>0</th>\n",
       "      <td>Situation\\nThe COVID‑19 pandemic and the meas...</td>\n",
       "      <td>0.72314</td>\n",
       "      <td>0.301999</td>\n",
       "      <td>-0.940681</td>\n",
       "      <td>2021</td>\n",
       "      <td>20210127</td>\n",
       "      <td>-0.317461</td>\n",
       "      <td>0.218388</td>\n",
       "    </tr>\n",
       "    <tr>\n",
       "      <th>1</th>\n",
       "      <td>Total nonfarm payroll employment fell in Decem...</td>\n",
       "      <td>0.594657</td>\n",
       "      <td>0.317956</td>\n",
       "      <td>-0.957911</td>\n",
       "      <td>2021</td>\n",
       "      <td>20210127</td>\n",
       "      <td>-0.334691</td>\n",
       "      <td>0.189074</td>\n",
       "    </tr>\n",
       "    <tr>\n",
       "      <th>2</th>\n",
       "      <td>Average hourly earnings for all employees rose...</td>\n",
       "      <td>0.62989</td>\n",
       "      <td>0.277221</td>\n",
       "      <td>-0.528109</td>\n",
       "      <td>2021</td>\n",
       "      <td>20210127</td>\n",
       "      <td>0.095111</td>\n",
       "      <td>0.174619</td>\n",
       "    </tr>\n",
       "    <tr>\n",
       "      <th>3</th>\n",
       "      <td>Total PCE price inflation was 1.1 percent over...</td>\n",
       "      <td>0.738329</td>\n",
       "      <td>0.207898</td>\n",
       "      <td>-0.852969</td>\n",
       "      <td>2021</td>\n",
       "      <td>20210127</td>\n",
       "      <td>-0.229749</td>\n",
       "      <td>0.153497</td>\n",
       "    </tr>\n",
       "    <tr>\n",
       "      <th>4</th>\n",
       "      <td>Real PCE fell in November, and available indic...</td>\n",
       "      <td>0.649559</td>\n",
       "      <td>0.332272</td>\n",
       "      <td>-0.952806</td>\n",
       "      <td>2021</td>\n",
       "      <td>20210127</td>\n",
       "      <td>-0.329586</td>\n",
       "      <td>0.21583</td>\n",
       "    </tr>\n",
       "    <tr>\n",
       "      <th>...</th>\n",
       "      <td>...</td>\n",
       "      <td>...</td>\n",
       "      <td>...</td>\n",
       "      <td>...</td>\n",
       "      <td>...</td>\n",
       "      <td>...</td>\n",
       "      <td>...</td>\n",
       "      <td>...</td>\n",
       "    </tr>\n",
       "    <tr>\n",
       "      <th>39</th>\n",
       "      <td>Committee Policy Action\\nIn their discussion o...</td>\n",
       "      <td>0.726817</td>\n",
       "      <td>0.532012</td>\n",
       "      <td>-0.122669</td>\n",
       "      <td>2021</td>\n",
       "      <td>20211215</td>\n",
       "      <td>0.500551</td>\n",
       "      <td>0.386675</td>\n",
       "    </tr>\n",
       "    <tr>\n",
       "      <th>40</th>\n",
       "      <td>As elevated inflation had persisted for longer...</td>\n",
       "      <td>0.842653</td>\n",
       "      <td>0.791272</td>\n",
       "      <td>0.154985</td>\n",
       "      <td>2021</td>\n",
       "      <td>20211215</td>\n",
       "      <td>0.778205</td>\n",
       "      <td>0.666768</td>\n",
       "    </tr>\n",
       "    <tr>\n",
       "      <th>41</th>\n",
       "      <td>Members agreed that the Federal Reserve was co...</td>\n",
       "      <td>0.717874</td>\n",
       "      <td>0.829967</td>\n",
       "      <td>0.803469</td>\n",
       "      <td>2021</td>\n",
       "      <td>20211215</td>\n",
       "      <td>1.426689</td>\n",
       "      <td>0.595812</td>\n",
       "    </tr>\n",
       "    <tr>\n",
       "      <th>42</th>\n",
       "      <td>Members agreed that the postmeeting statement ...</td>\n",
       "      <td>0.788342</td>\n",
       "      <td>0.81188</td>\n",
       "      <td>0.49167</td>\n",
       "      <td>2021</td>\n",
       "      <td>20211215</td>\n",
       "      <td>1.114891</td>\n",
       "      <td>0.640039</td>\n",
       "    </tr>\n",
       "    <tr>\n",
       "      <th>43</th>\n",
       "      <td>In light of inflation developments and the fur...</td>\n",
       "      <td>0.798131</td>\n",
       "      <td>0.561418</td>\n",
       "      <td>0.094164</td>\n",
       "      <td>2021</td>\n",
       "      <td>20211215</td>\n",
       "      <td>0.717384</td>\n",
       "      <td>0.448085</td>\n",
       "    </tr>\n",
       "  </tbody>\n",
       "</table>\n",
       "<p>359 rows × 8 columns</p>\n",
       "</div>"
      ],
      "text/plain": [
       "                                             raw_text embed_cos_sim  \\\n",
       "0    Situation\\nThe COVID‑19 pandemic and the meas...       0.72314   \n",
       "1   Total nonfarm payroll employment fell in Decem...      0.594657   \n",
       "2   Average hourly earnings for all employees rose...       0.62989   \n",
       "3   Total PCE price inflation was 1.1 percent over...      0.738329   \n",
       "4   Real PCE fell in November, and available indic...      0.649559   \n",
       "..                                                ...           ...   \n",
       "39  Committee Policy Action\\nIn their discussion o...      0.726817   \n",
       "40  As elevated inflation had persisted for longer...      0.842653   \n",
       "41  Members agreed that the Federal Reserve was co...      0.717874   \n",
       "42  Members agreed that the postmeeting statement ...      0.788342   \n",
       "43  In light of inflation developments and the fur...      0.798131   \n",
       "\n",
       "   topic_1-jensen_dist  net_tone category_id   file_id net_tone_diff  \\\n",
       "0             0.301999 -0.940681        2021  20210127     -0.317461   \n",
       "1             0.317956 -0.957911        2021  20210127     -0.334691   \n",
       "2             0.277221 -0.528109        2021  20210127      0.095111   \n",
       "3             0.207898 -0.852969        2021  20210127     -0.229749   \n",
       "4             0.332272 -0.952806        2021  20210127     -0.329586   \n",
       "..                 ...       ...         ...       ...           ...   \n",
       "39            0.532012 -0.122669        2021  20211215      0.500551   \n",
       "40            0.791272  0.154985        2021  20211215      0.778205   \n",
       "41            0.829967  0.803469        2021  20211215      1.426689   \n",
       "42             0.81188   0.49167        2021  20211215      1.114891   \n",
       "43            0.561418  0.094164        2021  20211215      0.717384   \n",
       "\n",
       "   combined_score  \n",
       "0        0.218388  \n",
       "1        0.189074  \n",
       "2        0.174619  \n",
       "3        0.153497  \n",
       "4         0.21583  \n",
       "..            ...  \n",
       "39       0.386675  \n",
       "40       0.666768  \n",
       "41       0.595812  \n",
       "42       0.640039  \n",
       "43       0.448085  \n",
       "\n",
       "[359 rows x 8 columns]"
      ]
     },
     "execution_count": 44,
     "metadata": {},
     "output_type": "execute_result"
    }
   ],
   "source": [
    "base_closest[0]"
   ]
  },
  {
   "cell_type": "markdown",
   "metadata": {},
   "source": [
    "we can sort our results by the document embedding cosine similarity or the combined score, which multiplies the cosine and jensen distance values. The latter ensures that the documents consider the topic distribution as well as the semantic meaning. net_tone_diff = compare_corpus['net_tone'] - base_corpus['net_tone'], e.g. if compare_corpus['net_tone'] = 0.5 and net_tone_diff = 0.8 (hence base['net_tone']=-0.2), then compare_corpus is more positive than the base. "
   ]
  },
  {
   "cell_type": "code",
   "execution_count": 45,
   "metadata": {},
   "outputs": [
    {
     "name": "stdout",
     "output_type": "stream",
     "text": [
      "Participants stressed that maintaining flexibility to implement appropriate policy adjustments on the basis of risk-management considerations should be a guiding principle in conducting policy in the current highly uncertain environment. Some participants suggested that reducing the pace of net asset purchases by more than $15 billion each month could be warranted so that the Committee would be in a better position to make adjustments to the target range for the federal funds rate, particularly in light of inflation pressures. Various participants noted that the Committee should be prepared to adjust the pace of asset purchases and raise the target range for the federal funds rate sooner than participants currently anticipated if inflation continued to run higher than levels consistent with the Committee's objectives. At the same time, because of the continuing considerable uncertainty about developments in supply chains, production logistics, and the course of the virus, a number of participants stressed that a patient attitude toward incoming data remained appropriate to allow for careful evaluation of evolving supply chain developments and their implications for the labor market and inflation. That said, participants noted that the Committee would not hesitate to take appropriate actions to address inflation pressures that posed risks to its longer-run price stability and employment objectives.\n",
      "\n",
      "net tone sentiment is 0.26, with a net tone difference (compare-base) of 0.88\n"
     ]
    }
   ],
   "source": [
    "top_cos = base_closest[0].sort_values('embed_cos_sim',ascending=False).head(1)\n",
    "print(top_cos['raw_text'].iloc[0])\n",
    "\n",
    "print(\"net tone sentiment is {:.2f}, with a net tone difference (compare-base) of {:.2f}\".format(top_cos['net_tone'].iloc[0],top_cos['net_tone_diff'].iloc[0]))"
   ]
  },
  {
   "cell_type": "code",
   "execution_count": 46,
   "metadata": {},
   "outputs": [
    {
     "name": "stdout",
     "output_type": "stream",
     "text": [
      "Participants judged that the Committee's current guidance for the federal funds rate and asset purchases was serving the economy well. They noted that a benefit of the outcome-based guidance was that it did not need to be recalibrated often in response to incoming data or the evolving outlook. Participants also noted the importance of communicating to the public that the existing guidance, together with the new monetary policy framework as delineated in the revised Statement on Longer-Run Goals and Monetary Policy Strategy, meant that the path of the federal funds rate and the balance sheet depend on actual progress toward reaching the Committee's maximum-employment and inflation goals. In particular, various participants noted that changes in the path of policy should be based primarily on observed outcomes rather than forecasts.\n",
      "\n",
      "net tone sentiment is 0.12, with a net tone difference (compare-base) of 0.74\n"
     ]
    }
   ],
   "source": [
    "top_combined = base_closest[0].sort_values('combined_score',ascending=False)\n",
    "print(top_combined['raw_text'].iloc[0])\n",
    "\n",
    "print(\"net tone sentiment is {:.2f}, with a net tone difference (compare-base) of {:.2f}\".format(top_combined['net_tone'].iloc[0],top_combined['net_tone_diff'].iloc[0]))"
   ]
  },
  {
   "cell_type": "markdown",
   "metadata": {},
   "source": [
    "### Sentiment overtime"
   ]
  },
  {
   "cell_type": "code",
   "execution_count": 47,
   "metadata": {},
   "outputs": [
    {
     "data": {
      "text/html": [
       "<div>\n",
       "<style scoped>\n",
       "    .dataframe tbody tr th:only-of-type {\n",
       "        vertical-align: middle;\n",
       "    }\n",
       "\n",
       "    .dataframe tbody tr th {\n",
       "        vertical-align: top;\n",
       "    }\n",
       "\n",
       "    .dataframe thead th {\n",
       "        text-align: right;\n",
       "    }\n",
       "</style>\n",
       "<table border=\"1\" class=\"dataframe\">\n",
       "  <thead>\n",
       "    <tr style=\"text-align: right;\">\n",
       "      <th></th>\n",
       "      <th>category_id</th>\n",
       "      <th>file_id</th>\n",
       "      <th>raw_text</th>\n",
       "      <th>net_tone</th>\n",
       "      <th>net_tone_diff</th>\n",
       "    </tr>\n",
       "    <tr>\n",
       "      <th>month</th>\n",
       "      <th></th>\n",
       "      <th></th>\n",
       "      <th></th>\n",
       "      <th></th>\n",
       "      <th></th>\n",
       "    </tr>\n",
       "  </thead>\n",
       "  <tbody>\n",
       "    <tr>\n",
       "      <th>2021-01</th>\n",
       "      <td>2021</td>\n",
       "      <td>20210127</td>\n",
       "      <td>Total real government purchases appeared to ha...</td>\n",
       "      <td>-0.922296</td>\n",
       "      <td>-0.299076</td>\n",
       "    </tr>\n",
       "    <tr>\n",
       "      <th>2021-03</th>\n",
       "      <td>2021</td>\n",
       "      <td>20210317</td>\n",
       "      <td>Data for December and January showed a narrowe...</td>\n",
       "      <td>-0.952751</td>\n",
       "      <td>-0.329531</td>\n",
       "    </tr>\n",
       "    <tr>\n",
       "      <th>2021-04</th>\n",
       "      <td>2021</td>\n",
       "      <td>20210428</td>\n",
       "      <td>Data for February showed a wider nominal U.S. ...</td>\n",
       "      <td>-0.96648</td>\n",
       "      <td>-0.34326</td>\n",
       "    </tr>\n",
       "    <tr>\n",
       "      <th>2021-06</th>\n",
       "      <td>2021</td>\n",
       "      <td>20210616</td>\n",
       "      <td>Participants noted that their District contact...</td>\n",
       "      <td>-0.792304</td>\n",
       "      <td>-0.169084</td>\n",
       "    </tr>\n",
       "    <tr>\n",
       "      <th>2021-07</th>\n",
       "      <td>2021</td>\n",
       "      <td>20210728</td>\n",
       "      <td>The nominal U.S. international trade deficit r...</td>\n",
       "      <td>-0.965716</td>\n",
       "      <td>-0.342496</td>\n",
       "    </tr>\n",
       "    <tr>\n",
       "      <th>2021-09</th>\n",
       "      <td>2021</td>\n",
       "      <td>20210922</td>\n",
       "      <td>Participants noted that their District contact...</td>\n",
       "      <td>0.824163</td>\n",
       "      <td>1.447383</td>\n",
       "    </tr>\n",
       "    <tr>\n",
       "      <th>2021-11</th>\n",
       "      <td>2021</td>\n",
       "      <td>20211103</td>\n",
       "      <td>Manufacturing output declined in September. Mo...</td>\n",
       "      <td>-0.966614</td>\n",
       "      <td>-0.343394</td>\n",
       "    </tr>\n",
       "    <tr>\n",
       "      <th>2021-12</th>\n",
       "      <td>2021</td>\n",
       "      <td>20211215</td>\n",
       "      <td>Total real government purchases appeared to be...</td>\n",
       "      <td>0.406519</td>\n",
       "      <td>1.029739</td>\n",
       "    </tr>\n",
       "  </tbody>\n",
       "</table>\n",
       "</div>"
      ],
      "text/plain": [
       "        category_id   file_id  \\\n",
       "month                           \n",
       "2021-01        2021  20210127   \n",
       "2021-03        2021  20210317   \n",
       "2021-04        2021  20210428   \n",
       "2021-06        2021  20210616   \n",
       "2021-07        2021  20210728   \n",
       "2021-09        2021  20210922   \n",
       "2021-11        2021  20211103   \n",
       "2021-12        2021  20211215   \n",
       "\n",
       "                                                  raw_text  net_tone  \\\n",
       "month                                                                  \n",
       "2021-01  Total real government purchases appeared to ha... -0.922296   \n",
       "2021-03  Data for December and January showed a narrowe... -0.952751   \n",
       "2021-04  Data for February showed a wider nominal U.S. ...  -0.96648   \n",
       "2021-06  Participants noted that their District contact... -0.792304   \n",
       "2021-07  The nominal U.S. international trade deficit r... -0.965716   \n",
       "2021-09  Participants noted that their District contact...  0.824163   \n",
       "2021-11  Manufacturing output declined in September. Mo... -0.966614   \n",
       "2021-12  Total real government purchases appeared to be...  0.406519   \n",
       "\n",
       "        net_tone_diff  \n",
       "month                  \n",
       "2021-01     -0.299076  \n",
       "2021-03     -0.329531  \n",
       "2021-04      -0.34326  \n",
       "2021-06     -0.169084  \n",
       "2021-07     -0.342496  \n",
       "2021-09      1.447383  \n",
       "2021-11     -0.343394  \n",
       "2021-12      1.029739  "
      ]
     },
     "execution_count": 47,
     "metadata": {},
     "output_type": "execute_result"
    }
   ],
   "source": [
    "top_n = 1\n",
    "score_method = 'embed_cos_sim'\n",
    "cols = ['category_id','file_id','raw_text','net_tone','net_tone_diff']\n",
    "base_overtime = base_closest[0].sort_values(by=score_method)[cols].groupby(['category_id','file_id']).head(top_n)\n",
    "base_overtime['month'] = pd.to_datetime(base_overtime['file_id']).dt.to_period('M')\n",
    "base_overtime = base_overtime.set_index('month').sort_index()\n",
    "base_overtime"
   ]
  },
  {
   "cell_type": "code",
   "execution_count": 48,
   "metadata": {},
   "outputs": [
    {
     "data": {
      "text/plain": [
       "<AxesSubplot:title={'center':'Net tone difference overtime'}, xlabel='month'>"
      ]
     },
     "execution_count": 48,
     "metadata": {},
     "output_type": "execute_result"
    },
    {
     "data": {
      "image/png": "[encoded data removed]",
      "text/plain": [
       "<Figure size 432x288 with 1 Axes>"
      ]
     },
     "metadata": {
      "needs_background": "light"
     },
     "output_type": "display_data"
    }
   ],
   "source": [
    "base_overtime['net_tone_diff'].plot(title='Net tone difference overtime')"
   ]
  },
  {
   "cell_type": "markdown",
   "metadata": {},
   "source": [
    "# Saving Models"
   ]
  },
  {
   "cell_type": "code",
   "execution_count": 49,
   "metadata": {},
   "outputs": [
    {
     "data": {
      "text/plain": [
       "'\\n#Save Transformer models\\nsave_path = os.path.join(current_directory,\"Model\")\\nif not os.path.exists(save_path):\\n    os.mkdir(save_path)\\n\\n    \\ntransformer_model.save_pretrained(os.path.join(save_path,\"transformer_model\"))\\n#Save LDA,vectorizer,topic_dictionary\\ntransformer_tokenizer.save_pretrained(os.path.join(save_path,\"transformer_tokenizer\"))\\n#save tokenizer settings\\npickle.dump(tokenizer_settings,open(os.path.join(save_path,\"tokenizer_settings.pkl\"),\"wb\"))\\n\\n#save lda model\\n\\nwith open(os.path.join(save_path,\"lda_models.pkl\"),\\'wb\\') as models:\\n    pickle.dump((lda_model,vectorizer,topic_dict),models)\\n\\n'"
      ]
     },
     "execution_count": 49,
     "metadata": {},
     "output_type": "execute_result"
    }
   ],
   "source": [
    "\"\"\"\n",
    "#Save Transformer models\n",
    "save_path = os.path.join(current_directory,\"Model\")\n",
    "if not os.path.exists(save_path):\n",
    "    os.mkdir(save_path)\n",
    "\n",
    "    \n",
    "transformer_model.save_pretrained(os.path.join(save_path,\"transformer_model\"))\n",
    "#Save LDA,vectorizer,topic_dictionary\n",
    "transformer_tokenizer.save_pretrained(os.path.join(save_path,\"transformer_tokenizer\"))\n",
    "#save tokenizer settings\n",
    "pickle.dump(tokenizer_settings,open(os.path.join(save_path,\"tokenizer_settings.pkl\"),\"wb\"))\n",
    "\n",
    "#save lda model\n",
    "\n",
    "with open(os.path.join(save_path,\"lda_models.pkl\"),'wb') as models:\n",
    "    pickle.dump((lda_model,vectorizer,topic_dict),models)\n",
    "\n",
    "\"\"\"\n"
   ]
  }
 ],
 "metadata": {
  "kernelspec": {
   "display_name": "Python 3",
   "language": "python",
   "name": "python3"
  },
  "language_info": {
   "codemirror_mode": {
    "name": "ipython",
    "version": 3
   },
   "file_extension": ".py",
   "mimetype": "text/x-python",
   "name": "python",
   "nbconvert_exporter": "python",
   "pygments_lexer": "ipython3",
   "version": "3.8.12"
  }
 },
 "nbformat": 4,
 "nbformat_minor": 2
}
